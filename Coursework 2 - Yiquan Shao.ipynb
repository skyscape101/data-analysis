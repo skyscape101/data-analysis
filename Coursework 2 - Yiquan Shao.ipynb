{
 "cells": [
  {
   "cell_type": "markdown",
   "id": "feb78292-4388-4db4-a234-dede75e7892d",
   "metadata": {},
   "source": [
    "# Statistic for AI and Data Science Coursework 2 - Yiquan Shao"
   ]
  },
  {
   "cell_type": "markdown",
   "id": "59bf3828-ed26-46d5-a2ee-a85897158940",
   "metadata": {},
   "source": [
    "## Report —— Using Variables to Predict the Current Condition of Bridges"
   ]
  },
  {
   "cell_type": "markdown",
   "id": "1e344e60-54d3-41ec-a414-713974fdfbec",
   "metadata": {},
   "source": [
    "The aim of this notebook is to show how to process original data and carry out an exploratory analysis of data with both continuous and categorical variables;\n",
    "\n",
    "Use regression modelling to look at the effect of predictor variables(the age of bridges, etc.) on a target variable(the current condition of bridges), \n",
    "and see below for details.\n",
    "\n",
    "**Contents**\n",
    "\n",
    " 1. Data Preparation\n",
    " 2. Exploratory Analysis\n",
    " 3. Regression Modelling\n",
    " 4. Final conclusion"
   ]
  },
  {
   "cell_type": "markdown",
   "id": "4a7c290c-a4d4-4ddc-b374-508e5d1ca5eb",
   "metadata": {},
   "source": [
    "## 1. Data Preparation"
   ]
  },
  {
   "cell_type": "markdown",
   "id": "574bff69-f220-471b-9a35-2ef07fb41530",
   "metadata": {},
   "source": [
    "### 1.1 Import libraries for programming and original data \n",
    "* From the file \"tx19_bridges_sample.csv\" , and now we can see the original data in the form of table named as **\"bridges\"**."
   ]
  },
  {
   "cell_type": "code",
   "execution_count": 531,
   "id": "467671f5-b6fd-47b5-b6b6-2df8acd19a72",
   "metadata": {
    "jupyter": {
     "source_hidden": true
    },
    "tags": []
   },
   "outputs": [],
   "source": [
    "import pandas as pd\n",
    "import numpy as np\n",
    "import matplotlib.pyplot as plt\n",
    "import seaborn as sns   # this is an additional plotting library\n",
    "%matplotlib inline\n",
    "from sklearn.linear_model import LinearRegression\n",
    "from sklearn.metrics import mean_squared_error\n",
    "from sklearn.preprocessing import StandardScaler"
   ]
  },
  {
   "cell_type": "code",
   "execution_count": 532,
   "id": "f8dd3719-e3f4-4f21-b40d-3f9191f99c24",
   "metadata": {
    "collapsed": true,
    "jupyter": {
     "outputs_hidden": true,
     "source_hidden": true
    },
    "tags": []
   },
   "outputs": [
    {
     "name": "stdout",
     "output_type": "stream",
     "text": [
      "The original table bridges is presented as below:\n"
     ]
    },
    {
     "data": {
      "text/html": [
       "<div>\n",
       "<style scoped>\n",
       "    .dataframe tbody tr th:only-of-type {\n",
       "        vertical-align: middle;\n",
       "    }\n",
       "\n",
       "    .dataframe tbody tr th {\n",
       "        vertical-align: top;\n",
       "    }\n",
       "\n",
       "    .dataframe thead th {\n",
       "        text-align: right;\n",
       "    }\n",
       "</style>\n",
       "<table border=\"1\" class=\"dataframe\">\n",
       "  <thead>\n",
       "    <tr style=\"text-align: right;\">\n",
       "      <th></th>\n",
       "      <th>District</th>\n",
       "      <th>Detour_Km</th>\n",
       "      <th>Toll</th>\n",
       "      <th>Maintainer</th>\n",
       "      <th>Urban</th>\n",
       "      <th>Status</th>\n",
       "      <th>Year</th>\n",
       "      <th>Lanes_on</th>\n",
       "      <th>Lanes_under</th>\n",
       "      <th>AverageDaily</th>\n",
       "      <th>...</th>\n",
       "      <th>Spans</th>\n",
       "      <th>Length</th>\n",
       "      <th>Width</th>\n",
       "      <th>Deck_rating</th>\n",
       "      <th>Superstr_rating</th>\n",
       "      <th>Substr_rating</th>\n",
       "      <th>Rated_load</th>\n",
       "      <th>Trucks_percent</th>\n",
       "      <th>Scour_rating</th>\n",
       "      <th>Future_traffic</th>\n",
       "    </tr>\n",
       "    <tr>\n",
       "      <th>Structure_id</th>\n",
       "      <th></th>\n",
       "      <th></th>\n",
       "      <th></th>\n",
       "      <th></th>\n",
       "      <th></th>\n",
       "      <th></th>\n",
       "      <th></th>\n",
       "      <th></th>\n",
       "      <th></th>\n",
       "      <th></th>\n",
       "      <th></th>\n",
       "      <th></th>\n",
       "      <th></th>\n",
       "      <th></th>\n",
       "      <th></th>\n",
       "      <th></th>\n",
       "      <th></th>\n",
       "      <th></th>\n",
       "      <th></th>\n",
       "      <th></th>\n",
       "      <th></th>\n",
       "    </tr>\n",
       "  </thead>\n",
       "  <tbody>\n",
       "    <tr>\n",
       "      <th>000021521-00101</th>\n",
       "      <td>District2</td>\n",
       "      <td>199</td>\n",
       "      <td>Free</td>\n",
       "      <td>Agency</td>\n",
       "      <td>Rural</td>\n",
       "      <td>Local</td>\n",
       "      <td>2005</td>\n",
       "      <td>1</td>\n",
       "      <td>0</td>\n",
       "      <td>1</td>\n",
       "      <td>...</td>\n",
       "      <td>2</td>\n",
       "      <td>31.4</td>\n",
       "      <td>4.3</td>\n",
       "      <td>Good</td>\n",
       "      <td>Very Good</td>\n",
       "      <td>Very Good</td>\n",
       "      <td>41.7</td>\n",
       "      <td>0.0</td>\n",
       "      <td>Dry</td>\n",
       "      <td>1</td>\n",
       "    </tr>\n",
       "    <tr>\n",
       "      <th>000021521-00181</th>\n",
       "      <td>District2</td>\n",
       "      <td>199</td>\n",
       "      <td>Free</td>\n",
       "      <td>Agency</td>\n",
       "      <td>Rural</td>\n",
       "      <td>Local</td>\n",
       "      <td>2005</td>\n",
       "      <td>1</td>\n",
       "      <td>0</td>\n",
       "      <td>1</td>\n",
       "      <td>...</td>\n",
       "      <td>1</td>\n",
       "      <td>15.5</td>\n",
       "      <td>4.3</td>\n",
       "      <td>Good</td>\n",
       "      <td>Good</td>\n",
       "      <td>Very Good</td>\n",
       "      <td>41.7</td>\n",
       "      <td>0.0</td>\n",
       "      <td>Dry</td>\n",
       "      <td>1</td>\n",
       "    </tr>\n",
       "    <tr>\n",
       "      <th>000021521-TMP20</th>\n",
       "      <td>District2</td>\n",
       "      <td>199</td>\n",
       "      <td>Free</td>\n",
       "      <td>Agency</td>\n",
       "      <td>Rural</td>\n",
       "      <td>Local</td>\n",
       "      <td>2012</td>\n",
       "      <td>2</td>\n",
       "      <td>0</td>\n",
       "      <td>100</td>\n",
       "      <td>...</td>\n",
       "      <td>1</td>\n",
       "      <td>10.1</td>\n",
       "      <td>8.4</td>\n",
       "      <td>Very Good</td>\n",
       "      <td>Very Good</td>\n",
       "      <td>Very Good</td>\n",
       "      <td>48.1</td>\n",
       "      <td>0.0</td>\n",
       "      <td>Dry</td>\n",
       "      <td>150</td>\n",
       "    </tr>\n",
       "    <tr>\n",
       "      <th>000021525-00012</th>\n",
       "      <td>District2</td>\n",
       "      <td>199</td>\n",
       "      <td>Free</td>\n",
       "      <td>Agency</td>\n",
       "      <td>Rural</td>\n",
       "      <td>Local</td>\n",
       "      <td>1950</td>\n",
       "      <td>1</td>\n",
       "      <td>0</td>\n",
       "      <td>80</td>\n",
       "      <td>...</td>\n",
       "      <td>14</td>\n",
       "      <td>45.4</td>\n",
       "      <td>3.7</td>\n",
       "      <td>Good</td>\n",
       "      <td>Good</td>\n",
       "      <td>Poor</td>\n",
       "      <td>10.0</td>\n",
       "      <td>0.0</td>\n",
       "      <td>Dry</td>\n",
       "      <td>120</td>\n",
       "    </tr>\n",
       "    <tr>\n",
       "      <th>000021580-00092</th>\n",
       "      <td>District2</td>\n",
       "      <td>6</td>\n",
       "      <td>Free</td>\n",
       "      <td>Agency</td>\n",
       "      <td>Rural</td>\n",
       "      <td>Local</td>\n",
       "      <td>2004</td>\n",
       "      <td>2</td>\n",
       "      <td>0</td>\n",
       "      <td>150</td>\n",
       "      <td>...</td>\n",
       "      <td>1</td>\n",
       "      <td>25.0</td>\n",
       "      <td>7.3</td>\n",
       "      <td>Good</td>\n",
       "      <td>Very Good</td>\n",
       "      <td>Very Good</td>\n",
       "      <td>37.2</td>\n",
       "      <td>4.0</td>\n",
       "      <td>Dry</td>\n",
       "      <td>200</td>\n",
       "    </tr>\n",
       "    <tr>\n",
       "      <th>...</th>\n",
       "      <td>...</td>\n",
       "      <td>...</td>\n",
       "      <td>...</td>\n",
       "      <td>...</td>\n",
       "      <td>...</td>\n",
       "      <td>...</td>\n",
       "      <td>...</td>\n",
       "      <td>...</td>\n",
       "      <td>...</td>\n",
       "      <td>...</td>\n",
       "      <td>...</td>\n",
       "      <td>...</td>\n",
       "      <td>...</td>\n",
       "      <td>...</td>\n",
       "      <td>...</td>\n",
       "      <td>...</td>\n",
       "      <td>...</td>\n",
       "      <td>...</td>\n",
       "      <td>...</td>\n",
       "      <td>...</td>\n",
       "      <td>...</td>\n",
       "    </tr>\n",
       "    <tr>\n",
       "      <th>DAPFORHOO000012</th>\n",
       "      <td>District9</td>\n",
       "      <td>0</td>\n",
       "      <td>Free</td>\n",
       "      <td>Military</td>\n",
       "      <td>Urban</td>\n",
       "      <td>Local</td>\n",
       "      <td>1994</td>\n",
       "      <td>3</td>\n",
       "      <td>0</td>\n",
       "      <td>300</td>\n",
       "      <td>...</td>\n",
       "      <td>3</td>\n",
       "      <td>45.4</td>\n",
       "      <td>19.0</td>\n",
       "      <td>Good</td>\n",
       "      <td>Good</td>\n",
       "      <td>Good</td>\n",
       "      <td>64.3</td>\n",
       "      <td>40.0</td>\n",
       "      <td>No waterway</td>\n",
       "      <td>600</td>\n",
       "    </tr>\n",
       "    <tr>\n",
       "      <th>DAPFORHOO000013</th>\n",
       "      <td>District9</td>\n",
       "      <td>0</td>\n",
       "      <td>Free</td>\n",
       "      <td>Military</td>\n",
       "      <td>Urban</td>\n",
       "      <td>Local</td>\n",
       "      <td>2000</td>\n",
       "      <td>2</td>\n",
       "      <td>0</td>\n",
       "      <td>300</td>\n",
       "      <td>...</td>\n",
       "      <td>1</td>\n",
       "      <td>12.3</td>\n",
       "      <td>10.8</td>\n",
       "      <td>Good</td>\n",
       "      <td>Good</td>\n",
       "      <td>Good</td>\n",
       "      <td>35.1</td>\n",
       "      <td>40.0</td>\n",
       "      <td>No waterway</td>\n",
       "      <td>600</td>\n",
       "    </tr>\n",
       "    <tr>\n",
       "      <th>DAPFORHOO000015</th>\n",
       "      <td>District9</td>\n",
       "      <td>0</td>\n",
       "      <td>Free</td>\n",
       "      <td>Military</td>\n",
       "      <td>Urban</td>\n",
       "      <td>Minor</td>\n",
       "      <td>1996</td>\n",
       "      <td>2</td>\n",
       "      <td>7</td>\n",
       "      <td>1200</td>\n",
       "      <td>...</td>\n",
       "      <td>4</td>\n",
       "      <td>73.2</td>\n",
       "      <td>9.8</td>\n",
       "      <td>Good</td>\n",
       "      <td>Good</td>\n",
       "      <td>Good</td>\n",
       "      <td>24.5</td>\n",
       "      <td>25.0</td>\n",
       "      <td>No waterway</td>\n",
       "      <td>1500</td>\n",
       "    </tr>\n",
       "    <tr>\n",
       "      <th>DAPFORHOO00005A</th>\n",
       "      <td>District9</td>\n",
       "      <td>0</td>\n",
       "      <td>Free</td>\n",
       "      <td>Military</td>\n",
       "      <td>Urban</td>\n",
       "      <td>Local</td>\n",
       "      <td>1991</td>\n",
       "      <td>2</td>\n",
       "      <td>0</td>\n",
       "      <td>300</td>\n",
       "      <td>...</td>\n",
       "      <td>2</td>\n",
       "      <td>27.8</td>\n",
       "      <td>10.4</td>\n",
       "      <td>Good</td>\n",
       "      <td>Good</td>\n",
       "      <td>Satisfactory</td>\n",
       "      <td>53.3</td>\n",
       "      <td>15.0</td>\n",
       "      <td>Stable</td>\n",
       "      <td>300</td>\n",
       "    </tr>\n",
       "    <tr>\n",
       "      <th>DAPTRABLI000011</th>\n",
       "      <td>District24</td>\n",
       "      <td>14</td>\n",
       "      <td>Free</td>\n",
       "      <td>Military</td>\n",
       "      <td>Urban</td>\n",
       "      <td>Minor</td>\n",
       "      <td>2002</td>\n",
       "      <td>2</td>\n",
       "      <td>6</td>\n",
       "      <td>300</td>\n",
       "      <td>...</td>\n",
       "      <td>4</td>\n",
       "      <td>156.0</td>\n",
       "      <td>7.5</td>\n",
       "      <td>Good</td>\n",
       "      <td>Very Good</td>\n",
       "      <td>Good</td>\n",
       "      <td>82.5</td>\n",
       "      <td>25.0</td>\n",
       "      <td>No waterway</td>\n",
       "      <td>500</td>\n",
       "    </tr>\n",
       "  </tbody>\n",
       "</table>\n",
       "<p>34293 rows × 24 columns</p>\n",
       "</div>"
      ],
      "text/plain": [
       "                   District  Detour_Km  Toll Maintainer  Urban Status  Year  \\\n",
       "Structure_id                                                                  \n",
       "000021521-00101   District2        199  Free     Agency  Rural  Local  2005   \n",
       "000021521-00181   District2        199  Free     Agency  Rural  Local  2005   \n",
       "000021521-TMP20   District2        199  Free     Agency  Rural  Local  2012   \n",
       "000021525-00012   District2        199  Free     Agency  Rural  Local  1950   \n",
       "000021580-00092   District2          6  Free     Agency  Rural  Local  2004   \n",
       "...                     ...        ...   ...        ...    ...    ...   ...   \n",
       "DAPFORHOO000012   District9          0  Free   Military  Urban  Local  1994   \n",
       "DAPFORHOO000013   District9          0  Free   Military  Urban  Local  2000   \n",
       "DAPFORHOO000015   District9          0  Free   Military  Urban  Minor  1996   \n",
       "DAPFORHOO00005A   District9          0  Free   Military  Urban  Local  1991   \n",
       "DAPTRABLI000011  District24         14  Free   Military  Urban  Minor  2002   \n",
       "\n",
       "                 Lanes_on  Lanes_under  AverageDaily  ... Spans Length Width  \\\n",
       "Structure_id                                          ...                      \n",
       "000021521-00101         1            0             1  ...     2   31.4   4.3   \n",
       "000021521-00181         1            0             1  ...     1   15.5   4.3   \n",
       "000021521-TMP20         2            0           100  ...     1   10.1   8.4   \n",
       "000021525-00012         1            0            80  ...    14   45.4   3.7   \n",
       "000021580-00092         2            0           150  ...     1   25.0   7.3   \n",
       "...                   ...          ...           ...  ...   ...    ...   ...   \n",
       "DAPFORHOO000012         3            0           300  ...     3   45.4  19.0   \n",
       "DAPFORHOO000013         2            0           300  ...     1   12.3  10.8   \n",
       "DAPFORHOO000015         2            7          1200  ...     4   73.2   9.8   \n",
       "DAPFORHOO00005A         2            0           300  ...     2   27.8  10.4   \n",
       "DAPTRABLI000011         2            6           300  ...     4  156.0   7.5   \n",
       "\n",
       "                Deck_rating  Superstr_rating  Substr_rating  Rated_load  \\\n",
       "Structure_id                                                              \n",
       "000021521-00101        Good        Very Good      Very Good        41.7   \n",
       "000021521-00181        Good             Good      Very Good        41.7   \n",
       "000021521-TMP20   Very Good        Very Good      Very Good        48.1   \n",
       "000021525-00012        Good             Good           Poor        10.0   \n",
       "000021580-00092        Good        Very Good      Very Good        37.2   \n",
       "...                     ...              ...            ...         ...   \n",
       "DAPFORHOO000012        Good             Good           Good        64.3   \n",
       "DAPFORHOO000013        Good             Good           Good        35.1   \n",
       "DAPFORHOO000015        Good             Good           Good        24.5   \n",
       "DAPFORHOO00005A        Good             Good   Satisfactory        53.3   \n",
       "DAPTRABLI000011        Good        Very Good           Good        82.5   \n",
       "\n",
       "                Trucks_percent Scour_rating Future_traffic  \n",
       "Structure_id                                                \n",
       "000021521-00101            0.0          Dry              1  \n",
       "000021521-00181            0.0          Dry              1  \n",
       "000021521-TMP20            0.0          Dry            150  \n",
       "000021525-00012            0.0          Dry            120  \n",
       "000021580-00092            4.0          Dry            200  \n",
       "...                        ...          ...            ...  \n",
       "DAPFORHOO000012           40.0  No waterway            600  \n",
       "DAPFORHOO000013           40.0  No waterway            600  \n",
       "DAPFORHOO000015           25.0  No waterway           1500  \n",
       "DAPFORHOO00005A           15.0       Stable            300  \n",
       "DAPTRABLI000011           25.0  No waterway            500  \n",
       "\n",
       "[34293 rows x 24 columns]"
      ]
     },
     "execution_count": 532,
     "metadata": {},
     "output_type": "execute_result"
    }
   ],
   "source": [
    "types_dict = { \"Structure_id\": str, \"District\":\"category\", \"Toll\":\"category\", \n",
    "              \"Maintainer\":\"category\", \"Urban\":\"category\", \"Status\":\"category\", \n",
    "              \"Historic\":\"category\", \"Service_under\":\"category\", \"Material\":\"category\", \n",
    "              \"Design\":\"category\", \n",
    "              \"Deck_rating\":\"category\", \"Superstr_rating\":\"category\", \"Substr_rating\":\"category\", \n",
    "              \"Scour_rating\":\"category\"}\n",
    "\n",
    "bridges = pd.read_csv(\"tx19_bridges_sample.csv\", dtype = types_dict, index_col = \"Structure_id\")\n",
    "print(\"The original table bridges is presented as below:\")\n",
    "bridges"
   ]
  },
  {
   "cell_type": "markdown",
   "id": "f6baba75-57a8-4321-8f6b-fe09285f8ebd",
   "metadata": {
    "jp-MarkdownHeadingCollapsed": true,
    "tags": []
   },
   "source": [
    "#### 1.1.1 Introduce the Variables\n",
    "\n",
    "| Variable      |      Description             | Type | \n",
    "|:--------------|:-----------------------------|:------:|\n",
    "|Structure_id   | Unique identifier of the bridge                  | String |\n",
    "|District       | Highway district in Texas responsible for bridge | category | \n",
    "|Detour_Km      | Length of detour if bridge closed                | continuous |\n",
    "|Toll           | Whether a toll is paid to use bridge             | category |\n",
    "|Maintainer     | The authority responsible for maintenance        | category |\n",
    "|Urban          | Whether the bridge is located in an urban or rural area   | category |\n",
    "|Status         | The road class: interstate to local                       | category | \n",
    "|Year           | The year the bridge was built                             | continuous | \n",
    "|Lanes_on       | The number of lanes that run over the bridge              | continuous (or discrete) |\n",
    "|Lanes_under    | The number of lanes that run under the bridge             | continuous (or discrete) |\n",
    "|AverageDaily   | The average daily traffic (number of vehicles)            | continuous |\n",
    "|Future_traffic | The estimated daily traffic in approx 20 years time       | continuous |\n",
    "|Trucks_percent | The percent of traffic made up of 'trucks' (i.e. lorries) | continuous |\n",
    "|Historic       | Whether the bridge is historic                            | category | \n",
    "|Service_under  | The (most important) service that runs under the bridge   | category |\n",
    "|Material       | The dominant material the bridge is made from             | category |\n",
    "|Design         | The design of the bridge                                  | category |\n",
    "|Spans          | The number of spans the bridge has                        | category (or discrete) |\n",
    "|Length         | The length of the bridge in metres                        | continuous |\n",
    "|Width          | The width of the bridge in metres                         | continuous |\n",
    "|Rated_load     | The rated max loading of bridge (in tonnes)               | continuous |\n",
    "|Scour_rating   | Only for bridges over water: the 'scour' condition        | category |\n",
    "|Deck_rating    | The condition of the deck of the bridge                   | category |\n",
    "|Superstr_rating| The condition of the bridge superstructure                | category |\n",
    "|Substr_rating  | The condition of the bridge substructure (foundations)    | category |\n",
    "\n",
    "**Note on 'scour'**: when a bridge is over (for example) a river, the flow of water in the river can undermine any bridge supports (called 'piers') in the water. This is called 'scouring' . The `Scour_rating` gives the condition with respect to possible damage from scouring. \n",
    " \n",
    "**Values of Categorical Variables** In the original data, the values of the categorical variables are represented as integers, with their meanings given in a data dictionary. In our dataset, these 'numeric codes' have been replaced with suitable names.\n",
    "\n",
    "| Variable      |      Values            |\n",
    "|:--------------|:-----------------------|\n",
    "|District       | Each district has a unique number  |\n",
    "|Toll           | Toll, Free                |\n",
    "|Maintainer     | State, County, Town or City, Agency, Private, Railroad, Toll Authority, Military, Unknown |\n",
    "|Urban          | Urban, Rural |\n",
    "|Status         | Interstate, Arterial, Minor, Local |\n",
    "|Historic       | Register, Possible, Unknown, Not historic |\n",
    "|Service_under  | Other, Highway, Railroad, Pedestrian, Interchange, Building |\n",
    "|Material       | Other, Concrete, Steel, Timber, Masonry |\n",
    "|Design         | Other, Slab, Beam, Frame, Truss, Arch, Suspension, Movable, Tunnel, Culvert, Mixed |\n",
    "|Scour_rating   | Unknown, Critical, Unstable, Stable, Protected, Dry, No waterway |\n",
    "|Deck_rating    | *Rating*: NA, Excellent, Very Good, Good, Satisfactory, Fair, Poor, Serious, Critical, Failing, Failed |\n",
    "|Superstr_rating| *Rating* |\n",
    "|Substr_rating  | *Rating* |"
   ]
  },
  {
   "cell_type": "markdown",
   "id": "57fe5cb0-7c0c-46e5-bf67-66721b2ef001",
   "metadata": {},
   "source": [
    "### 1.2 Get the necessary variables from bridges \n",
    "* In this report, we will only use these **[\"Year\", \"AverageDaily\", \"Trucks_percent\", \"Material\", \"Design\"]** variable as predictor.\n",
    "* Using **[ \"Deck_rating\", \"Superstr_rating\", \"Substr_rating\"]** as condition variables.\n",
    "* put them into a new table called **\"New_dataset\"**."
   ]
  },
  {
   "cell_type": "markdown",
   "id": "8f6dcdfc-8f10-4d4f-a42d-8b61b475785a",
   "metadata": {},
   "source": [
    "#### 1.2.1 Exclude NAN value\n",
    "* There are some NAN value in **New_dataset**, we need to drop these useless rows to guarantee the validity of the data."
   ]
  },
  {
   "cell_type": "code",
   "execution_count": 533,
   "id": "8f0c2ffe-fb0b-47cc-be9d-5ed1433afe83",
   "metadata": {
    "tags": []
   },
   "outputs": [
    {
     "name": "stdout",
     "output_type": "stream",
     "text": [
      "Now we get the first vision of New_dataset for analysis:\n"
     ]
    },
    {
     "data": {
      "text/html": [
       "<div>\n",
       "<style scoped>\n",
       "    .dataframe tbody tr th:only-of-type {\n",
       "        vertical-align: middle;\n",
       "    }\n",
       "\n",
       "    .dataframe tbody tr th {\n",
       "        vertical-align: top;\n",
       "    }\n",
       "\n",
       "    .dataframe thead th {\n",
       "        text-align: right;\n",
       "    }\n",
       "</style>\n",
       "<table border=\"1\" class=\"dataframe\">\n",
       "  <thead>\n",
       "    <tr style=\"text-align: right;\">\n",
       "      <th></th>\n",
       "      <th>Year</th>\n",
       "      <th>AverageDaily</th>\n",
       "      <th>Trucks_percent</th>\n",
       "      <th>Material</th>\n",
       "      <th>Design</th>\n",
       "      <th>Deck_rating</th>\n",
       "      <th>Superstr_rating</th>\n",
       "      <th>Substr_rating</th>\n",
       "    </tr>\n",
       "    <tr>\n",
       "      <th>Structure_id</th>\n",
       "      <th></th>\n",
       "      <th></th>\n",
       "      <th></th>\n",
       "      <th></th>\n",
       "      <th></th>\n",
       "      <th></th>\n",
       "      <th></th>\n",
       "      <th></th>\n",
       "    </tr>\n",
       "  </thead>\n",
       "  <tbody>\n",
       "    <tr>\n",
       "      <th>000021521-00101</th>\n",
       "      <td>2005</td>\n",
       "      <td>1</td>\n",
       "      <td>0.0</td>\n",
       "      <td>Concrete</td>\n",
       "      <td>Slab</td>\n",
       "      <td>Good</td>\n",
       "      <td>Very Good</td>\n",
       "      <td>Very Good</td>\n",
       "    </tr>\n",
       "    <tr>\n",
       "      <th>000021521-00181</th>\n",
       "      <td>2005</td>\n",
       "      <td>1</td>\n",
       "      <td>0.0</td>\n",
       "      <td>Concrete</td>\n",
       "      <td>Slab</td>\n",
       "      <td>Good</td>\n",
       "      <td>Good</td>\n",
       "      <td>Very Good</td>\n",
       "    </tr>\n",
       "    <tr>\n",
       "      <th>000021521-TMP20</th>\n",
       "      <td>2012</td>\n",
       "      <td>100</td>\n",
       "      <td>0.0</td>\n",
       "      <td>Concrete</td>\n",
       "      <td>Beam</td>\n",
       "      <td>Very Good</td>\n",
       "      <td>Very Good</td>\n",
       "      <td>Very Good</td>\n",
       "    </tr>\n",
       "    <tr>\n",
       "      <th>000021525-00012</th>\n",
       "      <td>1950</td>\n",
       "      <td>80</td>\n",
       "      <td>0.0</td>\n",
       "      <td>Timber</td>\n",
       "      <td>Beam</td>\n",
       "      <td>Good</td>\n",
       "      <td>Good</td>\n",
       "      <td>Poor</td>\n",
       "    </tr>\n",
       "    <tr>\n",
       "      <th>000021580-00092</th>\n",
       "      <td>2004</td>\n",
       "      <td>150</td>\n",
       "      <td>4.0</td>\n",
       "      <td>Concrete</td>\n",
       "      <td>Beam</td>\n",
       "      <td>Good</td>\n",
       "      <td>Very Good</td>\n",
       "      <td>Very Good</td>\n",
       "    </tr>\n",
       "    <tr>\n",
       "      <th>...</th>\n",
       "      <td>...</td>\n",
       "      <td>...</td>\n",
       "      <td>...</td>\n",
       "      <td>...</td>\n",
       "      <td>...</td>\n",
       "      <td>...</td>\n",
       "      <td>...</td>\n",
       "      <td>...</td>\n",
       "    </tr>\n",
       "    <tr>\n",
       "      <th>DAPFORHOO000012</th>\n",
       "      <td>1994</td>\n",
       "      <td>300</td>\n",
       "      <td>40.0</td>\n",
       "      <td>Concrete</td>\n",
       "      <td>Beam</td>\n",
       "      <td>Good</td>\n",
       "      <td>Good</td>\n",
       "      <td>Good</td>\n",
       "    </tr>\n",
       "    <tr>\n",
       "      <th>DAPFORHOO000013</th>\n",
       "      <td>2000</td>\n",
       "      <td>300</td>\n",
       "      <td>40.0</td>\n",
       "      <td>Concrete</td>\n",
       "      <td>Beam</td>\n",
       "      <td>Good</td>\n",
       "      <td>Good</td>\n",
       "      <td>Good</td>\n",
       "    </tr>\n",
       "    <tr>\n",
       "      <th>DAPFORHOO000015</th>\n",
       "      <td>1996</td>\n",
       "      <td>1200</td>\n",
       "      <td>25.0</td>\n",
       "      <td>Concrete</td>\n",
       "      <td>Beam</td>\n",
       "      <td>Good</td>\n",
       "      <td>Good</td>\n",
       "      <td>Good</td>\n",
       "    </tr>\n",
       "    <tr>\n",
       "      <th>DAPFORHOO00005A</th>\n",
       "      <td>1991</td>\n",
       "      <td>300</td>\n",
       "      <td>15.0</td>\n",
       "      <td>Concrete</td>\n",
       "      <td>Beam</td>\n",
       "      <td>Good</td>\n",
       "      <td>Good</td>\n",
       "      <td>Satisfactory</td>\n",
       "    </tr>\n",
       "    <tr>\n",
       "      <th>DAPTRABLI000011</th>\n",
       "      <td>2002</td>\n",
       "      <td>300</td>\n",
       "      <td>25.0</td>\n",
       "      <td>Steel</td>\n",
       "      <td>Beam</td>\n",
       "      <td>Good</td>\n",
       "      <td>Very Good</td>\n",
       "      <td>Good</td>\n",
       "    </tr>\n",
       "  </tbody>\n",
       "</table>\n",
       "<p>34286 rows × 8 columns</p>\n",
       "</div>"
      ],
      "text/plain": [
       "                 Year  AverageDaily  Trucks_percent  Material Design  \\\n",
       "Structure_id                                                           \n",
       "000021521-00101  2005             1             0.0  Concrete   Slab   \n",
       "000021521-00181  2005             1             0.0  Concrete   Slab   \n",
       "000021521-TMP20  2012           100             0.0  Concrete   Beam   \n",
       "000021525-00012  1950            80             0.0    Timber   Beam   \n",
       "000021580-00092  2004           150             4.0  Concrete   Beam   \n",
       "...               ...           ...             ...       ...    ...   \n",
       "DAPFORHOO000012  1994           300            40.0  Concrete   Beam   \n",
       "DAPFORHOO000013  2000           300            40.0  Concrete   Beam   \n",
       "DAPFORHOO000015  1996          1200            25.0  Concrete   Beam   \n",
       "DAPFORHOO00005A  1991           300            15.0  Concrete   Beam   \n",
       "DAPTRABLI000011  2002           300            25.0     Steel   Beam   \n",
       "\n",
       "                Deck_rating Superstr_rating Substr_rating  \n",
       "Structure_id                                               \n",
       "000021521-00101        Good       Very Good     Very Good  \n",
       "000021521-00181        Good            Good     Very Good  \n",
       "000021521-TMP20   Very Good       Very Good     Very Good  \n",
       "000021525-00012        Good            Good          Poor  \n",
       "000021580-00092        Good       Very Good     Very Good  \n",
       "...                     ...             ...           ...  \n",
       "DAPFORHOO000012        Good            Good          Good  \n",
       "DAPFORHOO000013        Good            Good          Good  \n",
       "DAPFORHOO000015        Good            Good          Good  \n",
       "DAPFORHOO00005A        Good            Good  Satisfactory  \n",
       "DAPTRABLI000011        Good       Very Good          Good  \n",
       "\n",
       "[34286 rows x 8 columns]"
      ]
     },
     "execution_count": 533,
     "metadata": {},
     "output_type": "execute_result"
    }
   ],
   "source": [
    "New_dataset = bridges.loc[:,[\"Year\", \"AverageDaily\", \"Trucks_percent\", \"Material\", \"Design\", \"Deck_rating\", \"Superstr_rating\", \"Substr_rating\"]]\n",
    "New_dataset = New_dataset.dropna()\n",
    "print(\"Now we get the first vision of New_dataset for analysis:\")\n",
    "New_dataset"
   ]
  },
  {
   "cell_type": "markdown",
   "id": "f2a77640-234a-4004-bb35-04e576b97637",
   "metadata": {
    "tags": []
   },
   "source": [
    "### 1.3 Create \"Age\" variable and drop \"Year\" variable\n",
    "* We want to use the Age of bridges as variable, so derive \"Age\" from the \"Year\" variable with age in years (Age = 2022 - Year).\n",
    "* Drop the \"Year\" variable since we get the \"Age\" variable."
   ]
  },
  {
   "cell_type": "code",
   "execution_count": 534,
   "id": "22cf432b-00ba-4e1e-a94f-fb29a264986d",
   "metadata": {
    "tags": []
   },
   "outputs": [
    {
     "data": {
      "text/html": [
       "<div>\n",
       "<style scoped>\n",
       "    .dataframe tbody tr th:only-of-type {\n",
       "        vertical-align: middle;\n",
       "    }\n",
       "\n",
       "    .dataframe tbody tr th {\n",
       "        vertical-align: top;\n",
       "    }\n",
       "\n",
       "    .dataframe thead th {\n",
       "        text-align: right;\n",
       "    }\n",
       "</style>\n",
       "<table border=\"1\" class=\"dataframe\">\n",
       "  <thead>\n",
       "    <tr style=\"text-align: right;\">\n",
       "      <th></th>\n",
       "      <th>AverageDaily</th>\n",
       "      <th>Trucks_percent</th>\n",
       "      <th>Material</th>\n",
       "      <th>Design</th>\n",
       "      <th>Deck_rating</th>\n",
       "      <th>Superstr_rating</th>\n",
       "      <th>Substr_rating</th>\n",
       "      <th>Age</th>\n",
       "    </tr>\n",
       "    <tr>\n",
       "      <th>Structure_id</th>\n",
       "      <th></th>\n",
       "      <th></th>\n",
       "      <th></th>\n",
       "      <th></th>\n",
       "      <th></th>\n",
       "      <th></th>\n",
       "      <th></th>\n",
       "      <th></th>\n",
       "    </tr>\n",
       "  </thead>\n",
       "  <tbody>\n",
       "    <tr>\n",
       "      <th>000021521-00101</th>\n",
       "      <td>1</td>\n",
       "      <td>0.0</td>\n",
       "      <td>Concrete</td>\n",
       "      <td>Slab</td>\n",
       "      <td>Good</td>\n",
       "      <td>Very Good</td>\n",
       "      <td>Very Good</td>\n",
       "      <td>17</td>\n",
       "    </tr>\n",
       "    <tr>\n",
       "      <th>000021521-00181</th>\n",
       "      <td>1</td>\n",
       "      <td>0.0</td>\n",
       "      <td>Concrete</td>\n",
       "      <td>Slab</td>\n",
       "      <td>Good</td>\n",
       "      <td>Good</td>\n",
       "      <td>Very Good</td>\n",
       "      <td>17</td>\n",
       "    </tr>\n",
       "    <tr>\n",
       "      <th>000021521-TMP20</th>\n",
       "      <td>100</td>\n",
       "      <td>0.0</td>\n",
       "      <td>Concrete</td>\n",
       "      <td>Beam</td>\n",
       "      <td>Very Good</td>\n",
       "      <td>Very Good</td>\n",
       "      <td>Very Good</td>\n",
       "      <td>10</td>\n",
       "    </tr>\n",
       "    <tr>\n",
       "      <th>000021525-00012</th>\n",
       "      <td>80</td>\n",
       "      <td>0.0</td>\n",
       "      <td>Timber</td>\n",
       "      <td>Beam</td>\n",
       "      <td>Good</td>\n",
       "      <td>Good</td>\n",
       "      <td>Poor</td>\n",
       "      <td>72</td>\n",
       "    </tr>\n",
       "    <tr>\n",
       "      <th>000021580-00092</th>\n",
       "      <td>150</td>\n",
       "      <td>4.0</td>\n",
       "      <td>Concrete</td>\n",
       "      <td>Beam</td>\n",
       "      <td>Good</td>\n",
       "      <td>Very Good</td>\n",
       "      <td>Very Good</td>\n",
       "      <td>18</td>\n",
       "    </tr>\n",
       "    <tr>\n",
       "      <th>...</th>\n",
       "      <td>...</td>\n",
       "      <td>...</td>\n",
       "      <td>...</td>\n",
       "      <td>...</td>\n",
       "      <td>...</td>\n",
       "      <td>...</td>\n",
       "      <td>...</td>\n",
       "      <td>...</td>\n",
       "    </tr>\n",
       "    <tr>\n",
       "      <th>DAPFORHOO000012</th>\n",
       "      <td>300</td>\n",
       "      <td>40.0</td>\n",
       "      <td>Concrete</td>\n",
       "      <td>Beam</td>\n",
       "      <td>Good</td>\n",
       "      <td>Good</td>\n",
       "      <td>Good</td>\n",
       "      <td>28</td>\n",
       "    </tr>\n",
       "    <tr>\n",
       "      <th>DAPFORHOO000013</th>\n",
       "      <td>300</td>\n",
       "      <td>40.0</td>\n",
       "      <td>Concrete</td>\n",
       "      <td>Beam</td>\n",
       "      <td>Good</td>\n",
       "      <td>Good</td>\n",
       "      <td>Good</td>\n",
       "      <td>22</td>\n",
       "    </tr>\n",
       "    <tr>\n",
       "      <th>DAPFORHOO000015</th>\n",
       "      <td>1200</td>\n",
       "      <td>25.0</td>\n",
       "      <td>Concrete</td>\n",
       "      <td>Beam</td>\n",
       "      <td>Good</td>\n",
       "      <td>Good</td>\n",
       "      <td>Good</td>\n",
       "      <td>26</td>\n",
       "    </tr>\n",
       "    <tr>\n",
       "      <th>DAPFORHOO00005A</th>\n",
       "      <td>300</td>\n",
       "      <td>15.0</td>\n",
       "      <td>Concrete</td>\n",
       "      <td>Beam</td>\n",
       "      <td>Good</td>\n",
       "      <td>Good</td>\n",
       "      <td>Satisfactory</td>\n",
       "      <td>31</td>\n",
       "    </tr>\n",
       "    <tr>\n",
       "      <th>DAPTRABLI000011</th>\n",
       "      <td>300</td>\n",
       "      <td>25.0</td>\n",
       "      <td>Steel</td>\n",
       "      <td>Beam</td>\n",
       "      <td>Good</td>\n",
       "      <td>Very Good</td>\n",
       "      <td>Good</td>\n",
       "      <td>20</td>\n",
       "    </tr>\n",
       "  </tbody>\n",
       "</table>\n",
       "<p>34286 rows × 8 columns</p>\n",
       "</div>"
      ],
      "text/plain": [
       "                 AverageDaily  Trucks_percent  Material Design Deck_rating  \\\n",
       "Structure_id                                                                 \n",
       "000021521-00101             1             0.0  Concrete   Slab        Good   \n",
       "000021521-00181             1             0.0  Concrete   Slab        Good   \n",
       "000021521-TMP20           100             0.0  Concrete   Beam   Very Good   \n",
       "000021525-00012            80             0.0    Timber   Beam        Good   \n",
       "000021580-00092           150             4.0  Concrete   Beam        Good   \n",
       "...                       ...             ...       ...    ...         ...   \n",
       "DAPFORHOO000012           300            40.0  Concrete   Beam        Good   \n",
       "DAPFORHOO000013           300            40.0  Concrete   Beam        Good   \n",
       "DAPFORHOO000015          1200            25.0  Concrete   Beam        Good   \n",
       "DAPFORHOO00005A           300            15.0  Concrete   Beam        Good   \n",
       "DAPTRABLI000011           300            25.0     Steel   Beam        Good   \n",
       "\n",
       "                Superstr_rating Substr_rating  Age  \n",
       "Structure_id                                        \n",
       "000021521-00101       Very Good     Very Good   17  \n",
       "000021521-00181            Good     Very Good   17  \n",
       "000021521-TMP20       Very Good     Very Good   10  \n",
       "000021525-00012            Good          Poor   72  \n",
       "000021580-00092       Very Good     Very Good   18  \n",
       "...                         ...           ...  ...  \n",
       "DAPFORHOO000012            Good          Good   28  \n",
       "DAPFORHOO000013            Good          Good   22  \n",
       "DAPFORHOO000015            Good          Good   26  \n",
       "DAPFORHOO00005A            Good  Satisfactory   31  \n",
       "DAPTRABLI000011       Very Good          Good   20  \n",
       "\n",
       "[34286 rows x 8 columns]"
      ]
     },
     "execution_count": 534,
     "metadata": {},
     "output_type": "execute_result"
    }
   ],
   "source": [
    "New_dataset = New_dataset.assign(Age =2022 - bridges.Year)\n",
    "New_dataset = New_dataset.drop([\"Year\"], axis=1)\n",
    "New_dataset"
   ]
  },
  {
   "cell_type": "markdown",
   "id": "78189bd8-52b4-4f0f-b386-d29843067826",
   "metadata": {},
   "source": [
    "### 1.4 Exclude very old bridges\n",
    "We need exclude some extreme data, too old bridges could bring some extreme variables to causes an exception for the entire dataset, so we have to recognise these old bridges and exclude these from the original table."
   ]
  },
  {
   "cell_type": "markdown",
   "id": "122f4d5b-318a-4be7-a740-c6812c631621",
   "metadata": {},
   "source": [
    "#### 1.4.1 The histogram of Age in bridges\n",
    "* We use the histogram to see the distribution of \"Age\" variable, it is obvious that the number in \"Age\" **after 100** are smaller than others."
   ]
  },
  {
   "cell_type": "code",
   "execution_count": 535,
   "id": "cb0fd596-ca9c-4b77-9fda-5684ea511868",
   "metadata": {
    "tags": []
   },
   "outputs": [
    {
     "data": {
      "text/plain": [
       "Text(0.5, 1.0, 'The histogram of Age')"
      ]
     },
     "execution_count": 535,
     "metadata": {},
     "output_type": "execute_result"
    },
    {
     "data": {
      "image/png": "[encoded data removed]",
      "text/plain": [
       "<Figure size 1000x500 with 1 Axes>"
      ]
     },
     "metadata": {},
     "output_type": "display_data"
    }
   ],
   "source": [
    "Age1 = New_dataset.loc[:, \"Age\"]\n",
    "Age1.hist(grid = True, bins=60,figsize=(10,5))\n",
    "plt.xlabel(\"Age\", fontsize=12)\n",
    "plt.ylabel(\"Number\", fontsize=12)\n",
    "plt.title('The histogram of Age', fontsize=12)"
   ]
  },
  {
   "cell_type": "markdown",
   "id": "31d8ed24-52fa-40ab-833a-46256096c004",
   "metadata": {},
   "source": [
    "#### 1.4.2 The table and bar chart of the Age between 100 and 122\n",
    "* We look further Age at 100 and beyond and notice that the number in the Age **from 103 to 122** are obviously smaller than others, so we can confirm the **Age >= 103** as the historic one."
   ]
  },
  {
   "cell_type": "code",
   "execution_count": 536,
   "id": "f52df7dc-d0fe-4c88-bcd4-f10d07eb85fb",
   "metadata": {
    "tags": []
   },
   "outputs": [
    {
     "name": "stdout",
     "output_type": "stream",
     "text": [
      "The table of the Age between 100 and 122\n"
     ]
    },
    {
     "data": {
      "text/html": [
       "<div>\n",
       "<style scoped>\n",
       "    .dataframe tbody tr th:only-of-type {\n",
       "        vertical-align: middle;\n",
       "    }\n",
       "\n",
       "    .dataframe tbody tr th {\n",
       "        vertical-align: top;\n",
       "    }\n",
       "\n",
       "    .dataframe thead th {\n",
       "        text-align: right;\n",
       "    }\n",
       "</style>\n",
       "<table border=\"1\" class=\"dataframe\">\n",
       "  <thead>\n",
       "    <tr style=\"text-align: right;\">\n",
       "      <th>Age</th>\n",
       "      <th>100</th>\n",
       "      <th>101</th>\n",
       "      <th>102</th>\n",
       "      <th>103</th>\n",
       "      <th>104</th>\n",
       "      <th>105</th>\n",
       "      <th>106</th>\n",
       "      <th>107</th>\n",
       "      <th>108</th>\n",
       "      <th>109</th>\n",
       "      <th>110</th>\n",
       "      <th>111</th>\n",
       "      <th>112</th>\n",
       "      <th>113</th>\n",
       "      <th>114</th>\n",
       "      <th>116</th>\n",
       "      <th>117</th>\n",
       "      <th>118</th>\n",
       "      <th>121</th>\n",
       "      <th>122</th>\n",
       "    </tr>\n",
       "  </thead>\n",
       "  <tbody>\n",
       "    <tr>\n",
       "      <th>Number</th>\n",
       "      <td>65</td>\n",
       "      <td>42</td>\n",
       "      <td>57</td>\n",
       "      <td>6</td>\n",
       "      <td>4</td>\n",
       "      <td>3</td>\n",
       "      <td>8</td>\n",
       "      <td>10</td>\n",
       "      <td>10</td>\n",
       "      <td>1</td>\n",
       "      <td>2</td>\n",
       "      <td>4</td>\n",
       "      <td>7</td>\n",
       "      <td>2</td>\n",
       "      <td>4</td>\n",
       "      <td>1</td>\n",
       "      <td>1</td>\n",
       "      <td>1</td>\n",
       "      <td>1</td>\n",
       "      <td>12</td>\n",
       "    </tr>\n",
       "  </tbody>\n",
       "</table>\n",
       "</div>"
      ],
      "text/plain": [
       "Age     100  101  102  103  104  105  106  107  108  109  110  111  112  113  \\\n",
       "Number   65   42   57    6    4    3    8   10   10    1    2    4    7    2   \n",
       "\n",
       "Age     114  116  117  118  121  122  \n",
       "Number    4    1    1    1    1   12  "
      ]
     },
     "metadata": {},
     "output_type": "display_data"
    },
    {
     "data": {
      "text/plain": [
       "Text(0.5, 1.0, 'The bar chart of the Age between 100 and 122')"
      ]
     },
     "execution_count": 536,
     "metadata": {},
     "output_type": "execute_result"
    },
    {
     "data": {
      "image/png": "[encoded data removed]",
      "text/plain": [
       "<Figure size 1000x500 with 1 Axes>"
      ]
     },
     "metadata": {},
     "output_type": "display_data"
    }
   ],
   "source": [
    "Historic = New_dataset.loc[(New_dataset.loc[:, \"Age\"] >= 100)]\n",
    "Historic = Historic.assign(Number = 1)\n",
    "p1 = Historic.pivot_table(index=[\"Age\"], values=[\"Number\"], aggfunc=\"count\").sort_index(axis=1, ascending=False)\n",
    "print(\"The table of the Age between 100 and 122\")\n",
    "display(p1.transpose())\n",
    "p1.plot(kind = \"bar\",color=\"g\",figsize=(10,5))\n",
    "plt.title('The bar chart of the Age between 100 and 122')"
   ]
  },
  {
   "cell_type": "markdown",
   "id": "aeee45c6-929c-41ee-885e-853c75226313",
   "metadata": {},
   "source": [
    "#### 1.4.3 Exclude bridges that **Age >= 103**"
   ]
  },
  {
   "cell_type": "code",
   "execution_count": 537,
   "id": "80702e09-6c79-4dca-98ca-a09738145ce3",
   "metadata": {
    "tags": []
   },
   "outputs": [
    {
     "data": {
      "text/html": [
       "<div>\n",
       "<style scoped>\n",
       "    .dataframe tbody tr th:only-of-type {\n",
       "        vertical-align: middle;\n",
       "    }\n",
       "\n",
       "    .dataframe tbody tr th {\n",
       "        vertical-align: top;\n",
       "    }\n",
       "\n",
       "    .dataframe thead th {\n",
       "        text-align: right;\n",
       "    }\n",
       "</style>\n",
       "<table border=\"1\" class=\"dataframe\">\n",
       "  <thead>\n",
       "    <tr style=\"text-align: right;\">\n",
       "      <th></th>\n",
       "      <th>AverageDaily</th>\n",
       "      <th>Trucks_percent</th>\n",
       "      <th>Material</th>\n",
       "      <th>Design</th>\n",
       "      <th>Deck_rating</th>\n",
       "      <th>Superstr_rating</th>\n",
       "      <th>Substr_rating</th>\n",
       "      <th>Age</th>\n",
       "    </tr>\n",
       "    <tr>\n",
       "      <th>Structure_id</th>\n",
       "      <th></th>\n",
       "      <th></th>\n",
       "      <th></th>\n",
       "      <th></th>\n",
       "      <th></th>\n",
       "      <th></th>\n",
       "      <th></th>\n",
       "      <th></th>\n",
       "    </tr>\n",
       "  </thead>\n",
       "  <tbody>\n",
       "    <tr>\n",
       "      <th>000021521-00101</th>\n",
       "      <td>1</td>\n",
       "      <td>0.0</td>\n",
       "      <td>Concrete</td>\n",
       "      <td>Slab</td>\n",
       "      <td>Good</td>\n",
       "      <td>Very Good</td>\n",
       "      <td>Very Good</td>\n",
       "      <td>17</td>\n",
       "    </tr>\n",
       "    <tr>\n",
       "      <th>000021521-00181</th>\n",
       "      <td>1</td>\n",
       "      <td>0.0</td>\n",
       "      <td>Concrete</td>\n",
       "      <td>Slab</td>\n",
       "      <td>Good</td>\n",
       "      <td>Good</td>\n",
       "      <td>Very Good</td>\n",
       "      <td>17</td>\n",
       "    </tr>\n",
       "    <tr>\n",
       "      <th>000021521-TMP20</th>\n",
       "      <td>100</td>\n",
       "      <td>0.0</td>\n",
       "      <td>Concrete</td>\n",
       "      <td>Beam</td>\n",
       "      <td>Very Good</td>\n",
       "      <td>Very Good</td>\n",
       "      <td>Very Good</td>\n",
       "      <td>10</td>\n",
       "    </tr>\n",
       "    <tr>\n",
       "      <th>000021525-00012</th>\n",
       "      <td>80</td>\n",
       "      <td>0.0</td>\n",
       "      <td>Timber</td>\n",
       "      <td>Beam</td>\n",
       "      <td>Good</td>\n",
       "      <td>Good</td>\n",
       "      <td>Poor</td>\n",
       "      <td>72</td>\n",
       "    </tr>\n",
       "    <tr>\n",
       "      <th>000021580-00092</th>\n",
       "      <td>150</td>\n",
       "      <td>4.0</td>\n",
       "      <td>Concrete</td>\n",
       "      <td>Beam</td>\n",
       "      <td>Good</td>\n",
       "      <td>Very Good</td>\n",
       "      <td>Very Good</td>\n",
       "      <td>18</td>\n",
       "    </tr>\n",
       "    <tr>\n",
       "      <th>...</th>\n",
       "      <td>...</td>\n",
       "      <td>...</td>\n",
       "      <td>...</td>\n",
       "      <td>...</td>\n",
       "      <td>...</td>\n",
       "      <td>...</td>\n",
       "      <td>...</td>\n",
       "      <td>...</td>\n",
       "    </tr>\n",
       "    <tr>\n",
       "      <th>DAPFORHOO000012</th>\n",
       "      <td>300</td>\n",
       "      <td>40.0</td>\n",
       "      <td>Concrete</td>\n",
       "      <td>Beam</td>\n",
       "      <td>Good</td>\n",
       "      <td>Good</td>\n",
       "      <td>Good</td>\n",
       "      <td>28</td>\n",
       "    </tr>\n",
       "    <tr>\n",
       "      <th>DAPFORHOO000013</th>\n",
       "      <td>300</td>\n",
       "      <td>40.0</td>\n",
       "      <td>Concrete</td>\n",
       "      <td>Beam</td>\n",
       "      <td>Good</td>\n",
       "      <td>Good</td>\n",
       "      <td>Good</td>\n",
       "      <td>22</td>\n",
       "    </tr>\n",
       "    <tr>\n",
       "      <th>DAPFORHOO000015</th>\n",
       "      <td>1200</td>\n",
       "      <td>25.0</td>\n",
       "      <td>Concrete</td>\n",
       "      <td>Beam</td>\n",
       "      <td>Good</td>\n",
       "      <td>Good</td>\n",
       "      <td>Good</td>\n",
       "      <td>26</td>\n",
       "    </tr>\n",
       "    <tr>\n",
       "      <th>DAPFORHOO00005A</th>\n",
       "      <td>300</td>\n",
       "      <td>15.0</td>\n",
       "      <td>Concrete</td>\n",
       "      <td>Beam</td>\n",
       "      <td>Good</td>\n",
       "      <td>Good</td>\n",
       "      <td>Satisfactory</td>\n",
       "      <td>31</td>\n",
       "    </tr>\n",
       "    <tr>\n",
       "      <th>DAPTRABLI000011</th>\n",
       "      <td>300</td>\n",
       "      <td>25.0</td>\n",
       "      <td>Steel</td>\n",
       "      <td>Beam</td>\n",
       "      <td>Good</td>\n",
       "      <td>Very Good</td>\n",
       "      <td>Good</td>\n",
       "      <td>20</td>\n",
       "    </tr>\n",
       "  </tbody>\n",
       "</table>\n",
       "<p>34209 rows × 8 columns</p>\n",
       "</div>"
      ],
      "text/plain": [
       "                 AverageDaily  Trucks_percent  Material Design Deck_rating  \\\n",
       "Structure_id                                                                 \n",
       "000021521-00101             1             0.0  Concrete   Slab        Good   \n",
       "000021521-00181             1             0.0  Concrete   Slab        Good   \n",
       "000021521-TMP20           100             0.0  Concrete   Beam   Very Good   \n",
       "000021525-00012            80             0.0    Timber   Beam        Good   \n",
       "000021580-00092           150             4.0  Concrete   Beam        Good   \n",
       "...                       ...             ...       ...    ...         ...   \n",
       "DAPFORHOO000012           300            40.0  Concrete   Beam        Good   \n",
       "DAPFORHOO000013           300            40.0  Concrete   Beam        Good   \n",
       "DAPFORHOO000015          1200            25.0  Concrete   Beam        Good   \n",
       "DAPFORHOO00005A           300            15.0  Concrete   Beam        Good   \n",
       "DAPTRABLI000011           300            25.0     Steel   Beam        Good   \n",
       "\n",
       "                Superstr_rating Substr_rating  Age  \n",
       "Structure_id                                        \n",
       "000021521-00101       Very Good     Very Good   17  \n",
       "000021521-00181            Good     Very Good   17  \n",
       "000021521-TMP20       Very Good     Very Good   10  \n",
       "000021525-00012            Good          Poor   72  \n",
       "000021580-00092       Very Good     Very Good   18  \n",
       "...                         ...           ...  ...  \n",
       "DAPFORHOO000012            Good          Good   28  \n",
       "DAPFORHOO000013            Good          Good   22  \n",
       "DAPFORHOO000015            Good          Good   26  \n",
       "DAPFORHOO00005A            Good  Satisfactory   31  \n",
       "DAPTRABLI000011       Very Good          Good   20  \n",
       "\n",
       "[34209 rows x 8 columns]"
      ]
     },
     "metadata": {},
     "output_type": "display_data"
    },
    {
     "name": "stdout",
     "output_type": "stream",
     "text": [
      "Now the Age variable in the table range is [3,102]\n"
     ]
    }
   ],
   "source": [
    "New_dataset = New_dataset.loc[(New_dataset.loc[:,\"Age\"] < 103)]\n",
    "display(New_dataset)\n",
    "Max = New_dataset.Age.max()\n",
    "Min = New_dataset.Age.min()\n",
    "print(\"Now the Age variable in the table range is [\" + str(Min) + \",\" + str(Max) + \"]\")"
   ]
  },
  {
   "cell_type": "markdown",
   "id": "799fc14c-1dbb-4c08-8048-0b191b6f1ff8",
   "metadata": {},
   "source": [
    "### 1.5 Reduce the number of categories of materials and design"
   ]
  },
  {
   "cell_type": "markdown",
   "id": "c1c4f688-fceb-4374-8312-04ea377144cf",
   "metadata": {},
   "source": [
    "Reducing the number of categorical variables for easier subsequent analysis and calculations. "
   ]
  },
  {
   "cell_type": "markdown",
   "id": "6c50fe80-09de-40f4-854f-b26da0226287",
   "metadata": {},
   "source": [
    "* Firstly, see the table of different Material's proportion."
   ]
  },
  {
   "cell_type": "code",
   "execution_count": 538,
   "id": "803e5b5d-b193-42fb-afac-98b601ec7f6b",
   "metadata": {
    "tags": []
   },
   "outputs": [
    {
     "data": {
      "text/html": [
       "<div>\n",
       "<style scoped>\n",
       "    .dataframe tbody tr th:only-of-type {\n",
       "        vertical-align: middle;\n",
       "    }\n",
       "\n",
       "    .dataframe tbody tr th {\n",
       "        vertical-align: top;\n",
       "    }\n",
       "\n",
       "    .dataframe thead th {\n",
       "        text-align: right;\n",
       "    }\n",
       "</style>\n",
       "<table border=\"1\" class=\"dataframe\">\n",
       "  <thead>\n",
       "    <tr style=\"text-align: right;\">\n",
       "      <th></th>\n",
       "      <th>Number</th>\n",
       "      <th>Proportion</th>\n",
       "    </tr>\n",
       "    <tr>\n",
       "      <th>Material</th>\n",
       "      <th></th>\n",
       "      <th></th>\n",
       "    </tr>\n",
       "  </thead>\n",
       "  <tbody>\n",
       "    <tr>\n",
       "      <th>Concrete</th>\n",
       "      <td>27081</td>\n",
       "      <td>0.791634</td>\n",
       "    </tr>\n",
       "    <tr>\n",
       "      <th>Masonry</th>\n",
       "      <td>11</td>\n",
       "      <td>0.000322</td>\n",
       "    </tr>\n",
       "    <tr>\n",
       "      <th>Other</th>\n",
       "      <td>48</td>\n",
       "      <td>0.001403</td>\n",
       "    </tr>\n",
       "    <tr>\n",
       "      <th>Steel</th>\n",
       "      <td>6604</td>\n",
       "      <td>0.193049</td>\n",
       "    </tr>\n",
       "    <tr>\n",
       "      <th>Timber</th>\n",
       "      <td>465</td>\n",
       "      <td>0.013593</td>\n",
       "    </tr>\n",
       "  </tbody>\n",
       "</table>\n",
       "</div>"
      ],
      "text/plain": [
       "          Number  Proportion\n",
       "Material                    \n",
       "Concrete   27081    0.791634\n",
       "Masonry       11    0.000322\n",
       "Other         48    0.001403\n",
       "Steel       6604    0.193049\n",
       "Timber       465    0.013593"
      ]
     },
     "execution_count": 538,
     "metadata": {},
     "output_type": "execute_result"
    }
   ],
   "source": [
    "p2 = New_dataset.pivot_table(columns=[\"Material\"], aggfunc=\"size\")\n",
    "p2 = pd.DataFrame(data = p2 ,columns=[\"Number\"])\n",
    "p2 = p2.assign(Proportion = p2.Number/p2.Number.sum())\n",
    "p2"
   ]
  },
  {
   "cell_type": "markdown",
   "id": "4b0eb372-5382-4dbb-989a-41925ecb1762",
   "metadata": {},
   "source": [
    "* Secondly, see the table of different Design's proportion."
   ]
  },
  {
   "cell_type": "code",
   "execution_count": 539,
   "id": "a2f8d551-55f3-4744-81a9-104591f28e2c",
   "metadata": {
    "tags": []
   },
   "outputs": [
    {
     "data": {
      "text/html": [
       "<div>\n",
       "<style scoped>\n",
       "    .dataframe tbody tr th:only-of-type {\n",
       "        vertical-align: middle;\n",
       "    }\n",
       "\n",
       "    .dataframe tbody tr th {\n",
       "        vertical-align: top;\n",
       "    }\n",
       "\n",
       "    .dataframe thead th {\n",
       "        text-align: right;\n",
       "    }\n",
       "</style>\n",
       "<table border=\"1\" class=\"dataframe\">\n",
       "  <thead>\n",
       "    <tr style=\"text-align: right;\">\n",
       "      <th></th>\n",
       "      <th>Number</th>\n",
       "      <th>Proportion</th>\n",
       "    </tr>\n",
       "    <tr>\n",
       "      <th>Design</th>\n",
       "      <th></th>\n",
       "      <th></th>\n",
       "    </tr>\n",
       "  </thead>\n",
       "  <tbody>\n",
       "    <tr>\n",
       "      <th>Arch</th>\n",
       "      <td>139</td>\n",
       "      <td>0.004063</td>\n",
       "    </tr>\n",
       "    <tr>\n",
       "      <th>Beam</th>\n",
       "      <td>28297</td>\n",
       "      <td>0.827180</td>\n",
       "    </tr>\n",
       "    <tr>\n",
       "      <th>Frame</th>\n",
       "      <td>68</td>\n",
       "      <td>0.001988</td>\n",
       "    </tr>\n",
       "    <tr>\n",
       "      <th>Movable</th>\n",
       "      <td>13</td>\n",
       "      <td>0.000380</td>\n",
       "    </tr>\n",
       "    <tr>\n",
       "      <th>Other</th>\n",
       "      <td>1240</td>\n",
       "      <td>0.036248</td>\n",
       "    </tr>\n",
       "    <tr>\n",
       "      <th>Slab</th>\n",
       "      <td>4330</td>\n",
       "      <td>0.126575</td>\n",
       "    </tr>\n",
       "    <tr>\n",
       "      <th>Suspension</th>\n",
       "      <td>5</td>\n",
       "      <td>0.000146</td>\n",
       "    </tr>\n",
       "    <tr>\n",
       "      <th>Truss</th>\n",
       "      <td>117</td>\n",
       "      <td>0.003420</td>\n",
       "    </tr>\n",
       "  </tbody>\n",
       "</table>\n",
       "</div>"
      ],
      "text/plain": [
       "            Number  Proportion\n",
       "Design                        \n",
       "Arch           139    0.004063\n",
       "Beam         28297    0.827180\n",
       "Frame           68    0.001988\n",
       "Movable         13    0.000380\n",
       "Other         1240    0.036248\n",
       "Slab          4330    0.126575\n",
       "Suspension       5    0.000146\n",
       "Truss          117    0.003420"
      ]
     },
     "execution_count": 539,
     "metadata": {},
     "output_type": "execute_result"
    }
   ],
   "source": [
    "p4 = New_dataset.pivot_table(columns=[\"Design\"], aggfunc=\"size\")\n",
    "p4 = pd.DataFrame(data = p4 ,columns=[\"Number\"])\n",
    "p4 = p4.assign(Proportion = p4.Number/p4.Number.sum())\n",
    "p4"
   ]
  },
  {
   "cell_type": "markdown",
   "id": "fb54a0bc-d2d1-4294-b164-c6671d69334a",
   "metadata": {},
   "source": [
    "#### 1.5.1 Merging small Material categories\n",
    "As we can see from the table of different Material's proportion, the proportions of **Masonry, Other and Timber** are small, so we combine these data into one category **\"Other\"**."
   ]
  },
  {
   "cell_type": "code",
   "execution_count": 540,
   "id": "588ef3bb-d23c-4d66-a27b-d44c92c26466",
   "metadata": {
    "tags": []
   },
   "outputs": [],
   "source": [
    "New_dataset = New_dataset.replace([\"Masonry\",\"Timber\"], [\"Other\", \"Other\"])"
   ]
  },
  {
   "cell_type": "markdown",
   "id": "dc9a5e12-bf6e-481c-87da-23f7ad87df57",
   "metadata": {},
   "source": [
    "Now we get a new table of proportions of Material's proportion."
   ]
  },
  {
   "cell_type": "code",
   "execution_count": 541,
   "id": "11155194-d7cc-480a-90f3-38ff32314903",
   "metadata": {
    "tags": []
   },
   "outputs": [
    {
     "data": {
      "text/html": [
       "<div>\n",
       "<style scoped>\n",
       "    .dataframe tbody tr th:only-of-type {\n",
       "        vertical-align: middle;\n",
       "    }\n",
       "\n",
       "    .dataframe tbody tr th {\n",
       "        vertical-align: top;\n",
       "    }\n",
       "\n",
       "    .dataframe thead th {\n",
       "        text-align: right;\n",
       "    }\n",
       "</style>\n",
       "<table border=\"1\" class=\"dataframe\">\n",
       "  <thead>\n",
       "    <tr style=\"text-align: right;\">\n",
       "      <th></th>\n",
       "      <th>Number</th>\n",
       "      <th>Proportion</th>\n",
       "    </tr>\n",
       "    <tr>\n",
       "      <th>Material</th>\n",
       "      <th></th>\n",
       "      <th></th>\n",
       "    </tr>\n",
       "  </thead>\n",
       "  <tbody>\n",
       "    <tr>\n",
       "      <th>Concrete</th>\n",
       "      <td>27081</td>\n",
       "      <td>0.791634</td>\n",
       "    </tr>\n",
       "    <tr>\n",
       "      <th>Other</th>\n",
       "      <td>524</td>\n",
       "      <td>0.015318</td>\n",
       "    </tr>\n",
       "    <tr>\n",
       "      <th>Steel</th>\n",
       "      <td>6604</td>\n",
       "      <td>0.193049</td>\n",
       "    </tr>\n",
       "  </tbody>\n",
       "</table>\n",
       "</div>"
      ],
      "text/plain": [
       "          Number  Proportion\n",
       "Material                    \n",
       "Concrete   27081    0.791634\n",
       "Other        524    0.015318\n",
       "Steel       6604    0.193049"
      ]
     },
     "execution_count": 541,
     "metadata": {},
     "output_type": "execute_result"
    }
   ],
   "source": [
    "p3 = New_dataset.pivot_table(columns=[\"Material\"], aggfunc=\"size\")\n",
    "p3 = pd.DataFrame(data = p3 ,columns=[\"Number\"])\n",
    "p3 = p3.assign(Proportion = p3.Number/p3.Number.sum())\n",
    "p3"
   ]
  },
  {
   "cell_type": "markdown",
   "id": "3bb8f876-aeba-4f12-82d4-6ffa71ed880c",
   "metadata": {},
   "source": [
    "#### 1.5.2 Merging small Design categories\n",
    "As we can see from the table of different Design's proportion, the proportions of **Arch, Frame, Movable, Suspension and Truss** are small, so we combine these data into one category **\"Other\"**."
   ]
  },
  {
   "cell_type": "code",
   "execution_count": 542,
   "id": "eddd70b2-6ae2-4380-a4bd-880595abfbba",
   "metadata": {
    "tags": []
   },
   "outputs": [],
   "source": [
    "New_dataset = New_dataset.replace([\"Arch\",\"Frame\",\"Movable\",\"Suspension\",\"Truss\"], [\"Other\", \"Other\", \"Other\", \"Other\", \"Other\"])"
   ]
  },
  {
   "cell_type": "markdown",
   "id": "97911635-e12c-4ba9-ae89-ff9375cfd8fa",
   "metadata": {},
   "source": [
    "Now we get a new table of proportions of Design's proportion."
   ]
  },
  {
   "cell_type": "code",
   "execution_count": 543,
   "id": "d515d91f-4e94-444d-99d6-f07cdd35a434",
   "metadata": {
    "tags": []
   },
   "outputs": [
    {
     "data": {
      "text/html": [
       "<div>\n",
       "<style scoped>\n",
       "    .dataframe tbody tr th:only-of-type {\n",
       "        vertical-align: middle;\n",
       "    }\n",
       "\n",
       "    .dataframe tbody tr th {\n",
       "        vertical-align: top;\n",
       "    }\n",
       "\n",
       "    .dataframe thead th {\n",
       "        text-align: right;\n",
       "    }\n",
       "</style>\n",
       "<table border=\"1\" class=\"dataframe\">\n",
       "  <thead>\n",
       "    <tr style=\"text-align: right;\">\n",
       "      <th></th>\n",
       "      <th>Number</th>\n",
       "      <th>Proportion</th>\n",
       "    </tr>\n",
       "    <tr>\n",
       "      <th>Design</th>\n",
       "      <th></th>\n",
       "      <th></th>\n",
       "    </tr>\n",
       "  </thead>\n",
       "  <tbody>\n",
       "    <tr>\n",
       "      <th>Beam</th>\n",
       "      <td>28297</td>\n",
       "      <td>0.827180</td>\n",
       "    </tr>\n",
       "    <tr>\n",
       "      <th>Other</th>\n",
       "      <td>1582</td>\n",
       "      <td>0.046245</td>\n",
       "    </tr>\n",
       "    <tr>\n",
       "      <th>Slab</th>\n",
       "      <td>4330</td>\n",
       "      <td>0.126575</td>\n",
       "    </tr>\n",
       "  </tbody>\n",
       "</table>\n",
       "</div>"
      ],
      "text/plain": [
       "        Number  Proportion\n",
       "Design                    \n",
       "Beam     28297    0.827180\n",
       "Other     1582    0.046245\n",
       "Slab      4330    0.126575"
      ]
     },
     "execution_count": 543,
     "metadata": {},
     "output_type": "execute_result"
    }
   ],
   "source": [
    "p5 = New_dataset.pivot_table(columns=[\"Design\"], aggfunc=\"size\")\n",
    "p5 = pd.DataFrame(data = p5 ,columns=[\"Number\"])\n",
    "p5 = p5.assign(Proportion = p5.Number/p5.Number.sum())\n",
    "p5"
   ]
  },
  {
   "cell_type": "markdown",
   "id": "06d6e214-ebbc-4a68-bae1-84208edb4001",
   "metadata": {},
   "source": [
    "### 1.6 Combine three main condition variables\n",
    "* Condition variables are : **Deck_rating, Superstr_rating and Substr_rating**.\n",
    "* Transform the categories values in condition: **[\"Failed\", \"Failing\", \"Critical\", \"Serious\", \"Poor\", \"Fair\", \"Satisfactory\", \"Good\", \"Very Good\", \"Excellent\", \"NA\"]**   \n",
    "to integer score **[0,1,2,3,4,5,6,7,8,9,0]** accordingly."
   ]
  },
  {
   "cell_type": "code",
   "execution_count": 544,
   "id": "0f25da2c-95b7-44ab-b7c9-ecd73ba88137",
   "metadata": {
    "tags": []
   },
   "outputs": [],
   "source": [
    "Bridges_data = New_dataset.replace([\"Failed\", \"Failing\", \"Critical\", \"Serious\", \"Poor\", \"Fair\", \"Satisfactory\", \"Good\", \"Very Good\", \"Excellent\"],\n",
    "                                   [0,1,2,3,4,5,6,7,8,9])"
   ]
  },
  {
   "cell_type": "code",
   "execution_count": 545,
   "id": "61c8ef79-9f1b-4bda-ab9f-3df5f92422e5",
   "metadata": {
    "tags": []
   },
   "outputs": [],
   "source": [
    "#change the attribute of the column to interger\n",
    "Bridges_data = Bridges_data.astype({\"Deck_rating\":\"int64\", \"Superstr_rating\":\"int64\", \"Substr_rating\":\"int64\"}) "
   ]
  },
  {
   "cell_type": "markdown",
   "id": "f477ffbf-7bef-48b4-8c8c-5a08f564afab",
   "metadata": {},
   "source": [
    "* Sum three condition variables, and put the sum into a new column **\"Current_condition\"**.\n",
    "* Drop the three main condition variables, since we get a new combined variable and treat it as **the target variable**.\n",
    "* Now we get the final table called **\"Bridge_data\"** in the stage of data preparation shown as below."
   ]
  },
  {
   "cell_type": "code",
   "execution_count": 546,
   "id": "47fb4e59-9c9f-4b1b-82a3-8485199435a3",
   "metadata": {
    "tags": []
   },
   "outputs": [
    {
     "name": "stdout",
     "output_type": "stream",
     "text": [
      "Here is the new table for analysis called Bridges_data\n"
     ]
    },
    {
     "data": {
      "text/html": [
       "<div>\n",
       "<style scoped>\n",
       "    .dataframe tbody tr th:only-of-type {\n",
       "        vertical-align: middle;\n",
       "    }\n",
       "\n",
       "    .dataframe tbody tr th {\n",
       "        vertical-align: top;\n",
       "    }\n",
       "\n",
       "    .dataframe thead th {\n",
       "        text-align: right;\n",
       "    }\n",
       "</style>\n",
       "<table border=\"1\" class=\"dataframe\">\n",
       "  <thead>\n",
       "    <tr style=\"text-align: right;\">\n",
       "      <th></th>\n",
       "      <th>AverageDaily</th>\n",
       "      <th>Trucks_percent</th>\n",
       "      <th>Material</th>\n",
       "      <th>Design</th>\n",
       "      <th>Age</th>\n",
       "      <th>Current_condition</th>\n",
       "    </tr>\n",
       "    <tr>\n",
       "      <th>Structure_id</th>\n",
       "      <th></th>\n",
       "      <th></th>\n",
       "      <th></th>\n",
       "      <th></th>\n",
       "      <th></th>\n",
       "      <th></th>\n",
       "    </tr>\n",
       "  </thead>\n",
       "  <tbody>\n",
       "    <tr>\n",
       "      <th>000021521-00101</th>\n",
       "      <td>1</td>\n",
       "      <td>0.0</td>\n",
       "      <td>Concrete</td>\n",
       "      <td>Slab</td>\n",
       "      <td>17</td>\n",
       "      <td>23</td>\n",
       "    </tr>\n",
       "    <tr>\n",
       "      <th>000021521-00181</th>\n",
       "      <td>1</td>\n",
       "      <td>0.0</td>\n",
       "      <td>Concrete</td>\n",
       "      <td>Slab</td>\n",
       "      <td>17</td>\n",
       "      <td>22</td>\n",
       "    </tr>\n",
       "    <tr>\n",
       "      <th>000021521-TMP20</th>\n",
       "      <td>100</td>\n",
       "      <td>0.0</td>\n",
       "      <td>Concrete</td>\n",
       "      <td>Beam</td>\n",
       "      <td>10</td>\n",
       "      <td>24</td>\n",
       "    </tr>\n",
       "    <tr>\n",
       "      <th>000021525-00012</th>\n",
       "      <td>80</td>\n",
       "      <td>0.0</td>\n",
       "      <td>Other</td>\n",
       "      <td>Beam</td>\n",
       "      <td>72</td>\n",
       "      <td>18</td>\n",
       "    </tr>\n",
       "    <tr>\n",
       "      <th>000021580-00092</th>\n",
       "      <td>150</td>\n",
       "      <td>4.0</td>\n",
       "      <td>Concrete</td>\n",
       "      <td>Beam</td>\n",
       "      <td>18</td>\n",
       "      <td>23</td>\n",
       "    </tr>\n",
       "    <tr>\n",
       "      <th>...</th>\n",
       "      <td>...</td>\n",
       "      <td>...</td>\n",
       "      <td>...</td>\n",
       "      <td>...</td>\n",
       "      <td>...</td>\n",
       "      <td>...</td>\n",
       "    </tr>\n",
       "    <tr>\n",
       "      <th>DAPFORHOO000012</th>\n",
       "      <td>300</td>\n",
       "      <td>40.0</td>\n",
       "      <td>Concrete</td>\n",
       "      <td>Beam</td>\n",
       "      <td>28</td>\n",
       "      <td>21</td>\n",
       "    </tr>\n",
       "    <tr>\n",
       "      <th>DAPFORHOO000013</th>\n",
       "      <td>300</td>\n",
       "      <td>40.0</td>\n",
       "      <td>Concrete</td>\n",
       "      <td>Beam</td>\n",
       "      <td>22</td>\n",
       "      <td>21</td>\n",
       "    </tr>\n",
       "    <tr>\n",
       "      <th>DAPFORHOO000015</th>\n",
       "      <td>1200</td>\n",
       "      <td>25.0</td>\n",
       "      <td>Concrete</td>\n",
       "      <td>Beam</td>\n",
       "      <td>26</td>\n",
       "      <td>21</td>\n",
       "    </tr>\n",
       "    <tr>\n",
       "      <th>DAPFORHOO00005A</th>\n",
       "      <td>300</td>\n",
       "      <td>15.0</td>\n",
       "      <td>Concrete</td>\n",
       "      <td>Beam</td>\n",
       "      <td>31</td>\n",
       "      <td>20</td>\n",
       "    </tr>\n",
       "    <tr>\n",
       "      <th>DAPTRABLI000011</th>\n",
       "      <td>300</td>\n",
       "      <td>25.0</td>\n",
       "      <td>Steel</td>\n",
       "      <td>Beam</td>\n",
       "      <td>20</td>\n",
       "      <td>22</td>\n",
       "    </tr>\n",
       "  </tbody>\n",
       "</table>\n",
       "<p>34209 rows × 6 columns</p>\n",
       "</div>"
      ],
      "text/plain": [
       "                 AverageDaily  Trucks_percent  Material Design  Age  \\\n",
       "Structure_id                                                          \n",
       "000021521-00101             1             0.0  Concrete   Slab   17   \n",
       "000021521-00181             1             0.0  Concrete   Slab   17   \n",
       "000021521-TMP20           100             0.0  Concrete   Beam   10   \n",
       "000021525-00012            80             0.0     Other   Beam   72   \n",
       "000021580-00092           150             4.0  Concrete   Beam   18   \n",
       "...                       ...             ...       ...    ...  ...   \n",
       "DAPFORHOO000012           300            40.0  Concrete   Beam   28   \n",
       "DAPFORHOO000013           300            40.0  Concrete   Beam   22   \n",
       "DAPFORHOO000015          1200            25.0  Concrete   Beam   26   \n",
       "DAPFORHOO00005A           300            15.0  Concrete   Beam   31   \n",
       "DAPTRABLI000011           300            25.0     Steel   Beam   20   \n",
       "\n",
       "                 Current_condition  \n",
       "Structure_id                        \n",
       "000021521-00101                 23  \n",
       "000021521-00181                 22  \n",
       "000021521-TMP20                 24  \n",
       "000021525-00012                 18  \n",
       "000021580-00092                 23  \n",
       "...                            ...  \n",
       "DAPFORHOO000012                 21  \n",
       "DAPFORHOO000013                 21  \n",
       "DAPFORHOO000015                 21  \n",
       "DAPFORHOO00005A                 20  \n",
       "DAPTRABLI000011                 22  \n",
       "\n",
       "[34209 rows x 6 columns]"
      ]
     },
     "execution_count": 546,
     "metadata": {},
     "output_type": "execute_result"
    }
   ],
   "source": [
    "Bridges_data = Bridges_data.assign(Current_condition = Bridges_data.Deck_rating + Bridges_data.Superstr_rating + Bridges_data.Substr_rating)\n",
    "Bridges_data = Bridges_data.drop([\"Deck_rating\", \"Superstr_rating\", \"Substr_rating\"], axis=1)\n",
    "print(\"Here is the new table for analysis called Bridges_data\")\n",
    "Bridges_data"
   ]
  },
  {
   "cell_type": "markdown",
   "id": "2120072d-c8bc-4e9e-9962-4848f4610b0a",
   "metadata": {},
   "source": [
    "## 2. Exploratory Analysis"
   ]
  },
  {
   "cell_type": "markdown",
   "id": "bbef2be8-c473-4c25-8ec6-8e9b97908b48",
   "metadata": {},
   "source": [
    "### 2.1 The relationship between continuous variables"
   ]
  },
  {
   "cell_type": "markdown",
   "id": "8507ce1d-653a-44c0-8a1c-7f00c307567c",
   "metadata": {},
   "source": [
    "#### 2.1.1 Calculate the correlation\n",
    "Use the final table presented above to calculate and show the correlation between continuous variables.\n",
    "* A linear correlation coefficient that returns a value of between -1 and +1. -1 means there is a strong negative correlation and +1 means that there is a strong positive correlation. A 0 means that there is no correlation (this is also called zero correlation);\n",
    "* Only absolute values of correlation > 0.3 show there is a correlation between two variables;\n",
    "* So we will mainly focus absolute values of correlation > 0.3; "
   ]
  },
  {
   "cell_type": "markdown",
   "id": "7b9db31c-38ee-4162-a390-20e540119b36",
   "metadata": {},
   "source": [
    "#### 2.1.2 The table of correlations\n",
    "The absolute vales > 0.3 in ths table will be highlighted; and the negative values will in red colour in this table."
   ]
  },
  {
   "cell_type": "code",
   "execution_count": 547,
   "id": "1cfdf0d3-09ce-4427-8fed-853a05384454",
   "metadata": {
    "tags": []
   },
   "outputs": [
    {
     "name": "stdout",
     "output_type": "stream",
     "text": [
      "Here is the table of correlations of continuous variables\n"
     ]
    },
    {
     "data": {
      "text/html": [
       "<style type=\"text/css\">\n",
       "#T_e6006_row0_col1, #T_e6006_row0_col3, #T_e6006_row1_col0, #T_e6006_row1_col2, #T_e6006_row2_col1, #T_e6006_row3_col0 {\n",
       "  opacity: 20%;\n",
       "}\n",
       "#T_e6006_row0_col2, #T_e6006_row1_col3, #T_e6006_row2_col0, #T_e6006_row3_col1 {\n",
       "  color: red;\n",
       "  opacity: 20%;\n",
       "}\n",
       "#T_e6006_row2_col3, #T_e6006_row3_col2 {\n",
       "  color: red;\n",
       "}\n",
       "</style>\n",
       "<table id=\"T_e6006\">\n",
       "  <thead>\n",
       "    <tr>\n",
       "      <th class=\"blank level0\" >&nbsp;</th>\n",
       "      <th id=\"T_e6006_level0_col0\" class=\"col_heading level0 col0\" >AverageDaily</th>\n",
       "      <th id=\"T_e6006_level0_col1\" class=\"col_heading level0 col1\" >Trucks_percent</th>\n",
       "      <th id=\"T_e6006_level0_col2\" class=\"col_heading level0 col2\" >Age</th>\n",
       "      <th id=\"T_e6006_level0_col3\" class=\"col_heading level0 col3\" >Current_condition</th>\n",
       "    </tr>\n",
       "  </thead>\n",
       "  <tbody>\n",
       "    <tr>\n",
       "      <th id=\"T_e6006_level0_row0\" class=\"row_heading level0 row0\" >AverageDaily</th>\n",
       "      <td id=\"T_e6006_row0_col0\" class=\"data row0 col0\" >1.000000</td>\n",
       "      <td id=\"T_e6006_row0_col1\" class=\"data row0 col1\" >0.022985</td>\n",
       "      <td id=\"T_e6006_row0_col2\" class=\"data row0 col2\" >-0.056584</td>\n",
       "      <td id=\"T_e6006_row0_col3\" class=\"data row0 col3\" >0.036944</td>\n",
       "    </tr>\n",
       "    <tr>\n",
       "      <th id=\"T_e6006_level0_row1\" class=\"row_heading level0 row1\" >Trucks_percent</th>\n",
       "      <td id=\"T_e6006_row1_col0\" class=\"data row1 col0\" >0.022985</td>\n",
       "      <td id=\"T_e6006_row1_col1\" class=\"data row1 col1\" >1.000000</td>\n",
       "      <td id=\"T_e6006_row1_col2\" class=\"data row1 col2\" >0.222450</td>\n",
       "      <td id=\"T_e6006_row1_col3\" class=\"data row1 col3\" >-0.046380</td>\n",
       "    </tr>\n",
       "    <tr>\n",
       "      <th id=\"T_e6006_level0_row2\" class=\"row_heading level0 row2\" >Age</th>\n",
       "      <td id=\"T_e6006_row2_col0\" class=\"data row2 col0\" >-0.056584</td>\n",
       "      <td id=\"T_e6006_row2_col1\" class=\"data row2 col1\" >0.222450</td>\n",
       "      <td id=\"T_e6006_row2_col2\" class=\"data row2 col2\" >1.000000</td>\n",
       "      <td id=\"T_e6006_row2_col3\" class=\"data row2 col3\" >-0.592882</td>\n",
       "    </tr>\n",
       "    <tr>\n",
       "      <th id=\"T_e6006_level0_row3\" class=\"row_heading level0 row3\" >Current_condition</th>\n",
       "      <td id=\"T_e6006_row3_col0\" class=\"data row3 col0\" >0.036944</td>\n",
       "      <td id=\"T_e6006_row3_col1\" class=\"data row3 col1\" >-0.046380</td>\n",
       "      <td id=\"T_e6006_row3_col2\" class=\"data row3 col2\" >-0.592882</td>\n",
       "      <td id=\"T_e6006_row3_col3\" class=\"data row3 col3\" >1.000000</td>\n",
       "    </tr>\n",
       "  </tbody>\n",
       "</table>\n"
      ],
      "text/plain": [
       "<pandas.io.formats.style.Styler at 0x7f871f9e3a00>"
      ]
     },
     "execution_count": 547,
     "metadata": {},
     "output_type": "execute_result"
    }
   ],
   "source": [
    "print(\"Here is the table of correlations of continuous variables\") \n",
    "Correlations = Bridges_data.corr()\n",
    "def style_negative(v, props=\"\"):\n",
    "    return props if v < 0 else None\n",
    "s = Correlations.style.applymap(style_negative, props=\"color:red;\")\\\n",
    "              .applymap(lambda v: \"opacity: 20%;\" if (v < 0.3) and (v > -0.3) else None)\n",
    "s"
   ]
  },
  {
   "cell_type": "markdown",
   "id": "2a115ba1-6158-4037-848e-fccc240bf0e8",
   "metadata": {
    "tags": []
   },
   "source": [
    "#### 2.1.3 The heatmap of correlations\n",
    "Use heatmap to visualise the correlations, the shade and kind of color will change according to the size of the number."
   ]
  },
  {
   "cell_type": "code",
   "execution_count": 548,
   "id": "69cae408-6b28-47f6-9d0c-ec3047fd13eb",
   "metadata": {
    "tags": []
   },
   "outputs": [
    {
     "data": {
      "text/plain": [
       "Text(0.5, 1.0, 'The heatmap of continuous variables of bridges')"
      ]
     },
     "execution_count": 548,
     "metadata": {},
     "output_type": "execute_result"
    },
    {
     "data": {
      "image/png": "[encoded data removed]",
      "text/plain": [
       "<Figure size 600x450 with 2 Axes>"
      ]
     },
     "metadata": {},
     "output_type": "display_data"
    }
   ],
   "source": [
    "# print(\"Here is the heatmap of continuous variables\")\n",
    "fig,ax = plt.subplots(1,1, figsize=(6,4.5))\n",
    "sns.heatmap(Bridges_data.corr(), vmin=-1, vmax=1, cmap=sns.diverging_palette(20, 220, as_cmap=True), \n",
    "           annot=True, ax=ax, annot_kws={\"size\": 15})\n",
    "_y = plt.yticks(rotation=0, fontsize=10)\n",
    "_x = plt.xticks(rotation=45, fontsize=10)\n",
    "plt.title(\"The heatmap of continuous variables of bridges\", fontsize=10)"
   ]
  },
  {
   "cell_type": "markdown",
   "id": "c0d1c25c-f23a-4e72-848d-7f53124ec18f",
   "metadata": {},
   "source": [
    "#### 2.1.4 Analysis\n",
    "* Since the Correlation number of age and Current_condition is -0.59, Age has a strong negative impact on Current_condition. In short, the older the bridges, the worse the condition of the bridge.\n",
    "* Other variables has nearly no relationship between each other."
   ]
  },
  {
   "cell_type": "markdown",
   "id": "ddf88392-8be8-47ed-9a39-c68cabcc60d4",
   "metadata": {},
   "source": [
    "### 2.2 The relationship continuous and categorical variables"
   ]
  },
  {
   "cell_type": "markdown",
   "id": "57dd8150-17e2-43e5-bb51-05359d5141ff",
   "metadata": {},
   "source": [
    "We use boxplot to see different distribution of Material and Design separately in one continuous variable accordingly."
   ]
  },
  {
   "cell_type": "markdown",
   "id": "d9615af5-a92e-4ea3-ac3d-d72b740314d9",
   "metadata": {},
   "source": [
    "#### 2.2.1 The boxplot of Current_condition with Material and Design"
   ]
  },
  {
   "cell_type": "code",
   "execution_count": 549,
   "id": "5ecb41f3-641f-4879-b946-d6a80bef12de",
   "metadata": {
    "tags": []
   },
   "outputs": [
    {
     "data": {
      "text/plain": [
       "Text(0, 0.5, 'Current_condition')"
      ]
     },
     "execution_count": 549,
     "metadata": {},
     "output_type": "execute_result"
    },
    {
     "data": {
      "image/png": "[encoded data removed]",
      "text/plain": [
       "<Figure size 2000x500 with 2 Axes>"
      ]
     },
     "metadata": {},
     "output_type": "display_data"
    }
   ],
   "source": [
    "fig, (a1, a2) = plt.subplots(1,2, figsize=(20,5))\n",
    "\n",
    "Bridges_data.boxplot(column='Current_condition', by='Material', ax=a1)\n",
    "Bridges_data.boxplot(column='Current_condition', by='Design', ax=a2)\n",
    "\n",
    "#Make the plots a bit clearer\n",
    "fig.suptitle('')\n",
    "a1.set_title('The boxplot of Current_condition and Material')\n",
    "a2.set_title('The boxplot of Current_condition and Design')\n",
    "a1.set_ylabel('Current_condition')"
   ]
  },
  {
   "cell_type": "markdown",
   "id": "363c4917-dadc-4e49-a5bd-afaa1fe5af7c",
   "metadata": {},
   "source": [
    "##### 2.2.1.1 Analysis\n",
    "* Material : Concrete has a better bridges' condition than Steel and Other.\n",
    "* Design : Beam and other have better bridges' condition than Slab, but the difference in design is not very obvious."
   ]
  },
  {
   "cell_type": "markdown",
   "id": "2e729f15-61e8-44f6-8d65-12dc609612bf",
   "metadata": {},
   "source": [
    "#### 2.2.2 The boxplot of Age with Material and Design"
   ]
  },
  {
   "cell_type": "code",
   "execution_count": 550,
   "id": "a05f4ca6-df21-4dfb-8919-b4d6f2302eae",
   "metadata": {
    "tags": []
   },
   "outputs": [
    {
     "data": {
      "text/plain": [
       "Text(0, 0.5, 'Age')"
      ]
     },
     "execution_count": 550,
     "metadata": {},
     "output_type": "execute_result"
    },
    {
     "data": {
      "image/png": "[encoded data removed]",
      "text/plain": [
       "<Figure size 2000x500 with 2 Axes>"
      ]
     },
     "metadata": {},
     "output_type": "display_data"
    }
   ],
   "source": [
    "fig, (a3, a4) = plt.subplots(1,2, figsize=(20,5))\n",
    "\n",
    "Bridges_data.boxplot(column='Age', by='Material', ax=a3)\n",
    "Bridges_data.boxplot(column='Age', by='Design', ax=a4)\n",
    "\n",
    "#Make the plots a bit clearer\n",
    "fig.suptitle('')\n",
    "a3.set_title('The boxplot of Age and Material')\n",
    "a4.set_title('The boxplot of Age and Design')\n",
    "a3.set_ylabel('Age')"
   ]
  },
  {
   "cell_type": "markdown",
   "id": "b0ced403-a46d-417e-ba92-c8689ed09365",
   "metadata": {},
   "source": [
    "##### 2.2.2.1 Analysis\n",
    "* Material : Concrete and Steel have similar Age distribution, and other are younger than these two.\n",
    "* Design : Slab is older than Beam and Other."
   ]
  },
  {
   "cell_type": "markdown",
   "id": "a25fa248-149b-4902-8a6e-62c661a7d863",
   "metadata": {},
   "source": [
    "#### 2.2.3 The boxplot of Trucks_percent with Material and Design"
   ]
  },
  {
   "cell_type": "code",
   "execution_count": 551,
   "id": "2760c8d9-17f9-420f-8095-d93fe50ea755",
   "metadata": {
    "tags": []
   },
   "outputs": [
    {
     "data": {
      "text/plain": [
       "Text(0, 0.5, 'Trucks_percent')"
      ]
     },
     "execution_count": 551,
     "metadata": {},
     "output_type": "execute_result"
    },
    {
     "data": {
      "image/png": "[encoded data removed]",
      "text/plain": [
       "<Figure size 2000x500 with 2 Axes>"
      ]
     },
     "metadata": {},
     "output_type": "display_data"
    }
   ],
   "source": [
    "fig, (a5, a6) = plt.subplots(1,2, figsize=(20,5))\n",
    "\n",
    "Bridges_data.boxplot(column='Trucks_percent', by='Material', ax=a5)\n",
    "Bridges_data.boxplot(column='Trucks_percent', by='Design', ax=a6)\n",
    "\n",
    "#Make the plots a bit clearer\n",
    "fig.suptitle('')\n",
    "a5.set_title('The boxplot of Trucks_percent and Material')\n",
    "a6.set_title('The boxplot of Trucks_percent and Design')\n",
    "a5.set_ylabel('Trucks_percent')"
   ]
  },
  {
   "cell_type": "markdown",
   "id": "01fbf30e-90ec-4ee5-b03d-e710134cc137",
   "metadata": {},
   "source": [
    "##### 2.2.3.1 Analysis\n",
    "* Material : Sort by Truck_percentage from high to low: Concrete > Steel > Other.\n",
    "* Design : Sort by Truck_percentage from high to low: Slab > Beam > Other."
   ]
  },
  {
   "cell_type": "markdown",
   "id": "29170305-4840-4a11-9432-c6a9a6429dec",
   "metadata": {},
   "source": [
    "#### 2.2.4 The boxplot of AverageDaily with Material and Design"
   ]
  },
  {
   "cell_type": "code",
   "execution_count": 552,
   "id": "5eb7b2f2-5ab6-4cd8-8201-0bcf55b2cc11",
   "metadata": {
    "tags": []
   },
   "outputs": [
    {
     "data": {
      "text/plain": [
       "Text(0, 0.5, 'AverageDaily')"
      ]
     },
     "execution_count": 552,
     "metadata": {},
     "output_type": "execute_result"
    },
    {
     "data": {
      "image/png": "[encoded data removed]",
      "text/plain": [
       "<Figure size 2000x500 with 2 Axes>"
      ]
     },
     "metadata": {},
     "output_type": "display_data"
    }
   ],
   "source": [
    "#ignore the python waring\n",
    "import warnings\n",
    "warnings.filterwarnings(\"ignore\") \n",
    "#use log function to process the data for better visualization\n",
    "brd_logs = Bridges_data.assign(AverageDailyLog = np.log10(bridges.AverageDaily))\n",
    "fig, (a7, a8) = plt.subplots(1,2, figsize=(20,5))\n",
    "\n",
    "brd_logs.boxplot(column='AverageDailyLog', by='Material', ax=a7)\n",
    "brd_logs.boxplot(column='AverageDailyLog', by='Design', ax=a8)\n",
    "\n",
    "#Make the plots a bit clearer\n",
    "fig.suptitle('')\n",
    "a7.set_title('The boxplot of AverageDaily and Material')\n",
    "a8.set_title('The boxplot of AverageDaily and Design')\n",
    "a7.set_ylabel('AverageDaily')"
   ]
  },
  {
   "cell_type": "markdown",
   "id": "5b68d66b-e20e-4643-a8d0-04d206d57770",
   "metadata": {},
   "source": [
    "##### 2.2.3.1 Analysis\n",
    "* Material : Sort by AverageDaily from high to low: Concrete > Steel > Other.\n",
    "* Design : Sort by AverageDaily from high to low: Beam > Slab > Other."
   ]
  },
  {
   "cell_type": "markdown",
   "id": "7188e5a9-2448-40b3-afd6-22e24fc1517a",
   "metadata": {},
   "source": [
    "### 2.3 The relationship categorical and categorical variables"
   ]
  },
  {
   "cell_type": "markdown",
   "id": "984614d0-3e3f-4f2a-9262-12eff82d9ebb",
   "metadata": {},
   "source": [
    "#### 2.3.1 The table of ratio of Material and Design"
   ]
  },
  {
   "cell_type": "markdown",
   "id": "b44eea6d-6d41-4fcb-88c4-897ff41806c4",
   "metadata": {},
   "source": [
    "This table shows ratio of each other in categorical variables, the sum of all values in table is 100."
   ]
  },
  {
   "cell_type": "code",
   "execution_count": 553,
   "id": "f614951b-46e1-4d99-be6b-f807981592a7",
   "metadata": {
    "tags": []
   },
   "outputs": [
    {
     "data": {
      "text/html": [
       "<div>\n",
       "<style scoped>\n",
       "    .dataframe tbody tr th:only-of-type {\n",
       "        vertical-align: middle;\n",
       "    }\n",
       "\n",
       "    .dataframe tbody tr th {\n",
       "        vertical-align: top;\n",
       "    }\n",
       "\n",
       "    .dataframe thead th {\n",
       "        text-align: right;\n",
       "    }\n",
       "</style>\n",
       "<table border=\"1\" class=\"dataframe\">\n",
       "  <thead>\n",
       "    <tr style=\"text-align: right;\">\n",
       "      <th>Material</th>\n",
       "      <th>Concrete</th>\n",
       "      <th>Other</th>\n",
       "      <th>Steel</th>\n",
       "    </tr>\n",
       "    <tr>\n",
       "      <th>Design</th>\n",
       "      <th></th>\n",
       "      <th></th>\n",
       "      <th></th>\n",
       "    </tr>\n",
       "  </thead>\n",
       "  <tbody>\n",
       "    <tr>\n",
       "      <th>Beam</th>\n",
       "      <td>63.41</td>\n",
       "      <td>1.36</td>\n",
       "      <td>17.95</td>\n",
       "    </tr>\n",
       "    <tr>\n",
       "      <th>Other</th>\n",
       "      <td>3.10</td>\n",
       "      <td>0.18</td>\n",
       "      <td>1.35</td>\n",
       "    </tr>\n",
       "    <tr>\n",
       "      <th>Slab</th>\n",
       "      <td>12.66</td>\n",
       "      <td>0.00</td>\n",
       "      <td>0.00</td>\n",
       "    </tr>\n",
       "  </tbody>\n",
       "</table>\n",
       "</div>"
      ],
      "text/plain": [
       "Material  Concrete  Other  Steel\n",
       "Design                          \n",
       "Beam         63.41   1.36  17.95\n",
       "Other         3.10   0.18   1.35\n",
       "Slab         12.66   0.00   0.00"
      ]
     },
     "execution_count": 553,
     "metadata": {},
     "output_type": "execute_result"
    }
   ],
   "source": [
    "des_and_mat = pd.crosstab(Bridges_data.Design, [Bridges_data.Material], normalize='all')\n",
    "mat_and_des = pd.crosstab(Bridges_data.Material, [Bridges_data.Design], normalize='all')\n",
    "des_and_mat.round(4) * 100"
   ]
  },
  {
   "cell_type": "markdown",
   "id": "659e92a0-a1c6-4c4c-a701-2cee6534cb51",
   "metadata": {},
   "source": [
    "#### 2.3.2 The bar chart of ratio of Material and Design"
   ]
  },
  {
   "cell_type": "markdown",
   "id": "71bc4920-d4c8-4a7c-8781-5979b2a2295c",
   "metadata": {},
   "source": [
    "Use bar chart visualise the table."
   ]
  },
  {
   "cell_type": "code",
   "execution_count": 554,
   "id": "68462847-9fe8-413f-b559-c69bc53caa0f",
   "metadata": {
    "tags": []
   },
   "outputs": [
    {
     "data": {
      "text/plain": [
       "Text(0.5, 1.0, 'Joint Probability of Main Material and Design (plot 2)')"
      ]
     },
     "execution_count": 554,
     "metadata": {},
     "output_type": "execute_result"
    },
    {
     "data": {
      "image/png": "[encoded data removed]",
      "text/plain": [
       "<Figure size 800x1000 with 2 Axes>"
      ]
     },
     "metadata": {},
     "output_type": "display_data"
    }
   ],
   "source": [
    "# Generate suitable axes\n",
    "fig,(a1, a2) = plt.subplots(2,1,figsize=(8,10), sharey=False, sharex=False)\n",
    "fig.subplots_adjust(hspace=0.35)\n",
    "\n",
    "#Plot one tabulation on each axis WITH CAREFUL TITLES\n",
    "des_and_mat.plot(kind='bar', subplots=False, ax=a1, rot=0)\n",
    "a1.set_title('Joint Probability of Design and Main Material (plot 1)', fontsize=14)\n",
    "\n",
    "mat_and_des.plot(kind='bar', subplots=False, ax=a2, rot=0)\n",
    "a2.set_title('Joint Probability of Main Material and Design (plot 2)', fontsize=14)"
   ]
  },
  {
   "cell_type": "markdown",
   "id": "a8a258c6-d405-4a17-8d5e-173f992269ce",
   "metadata": {},
   "source": [
    "#### 2.3.1 Analysis\n",
    "* Most design use Concrete as material.\n",
    "* Most material use Beam as design.\n",
    "* Design in Beam, use concrete as material seems to be the main trend in bridges."
   ]
  },
  {
   "cell_type": "markdown",
   "id": "743d46b5-f453-4bbb-b34d-8e8d3e2d01c0",
   "metadata": {},
   "source": [
    "### 2.4 Preliminary Conclusion"
   ]
  },
  {
   "cell_type": "markdown",
   "id": "f6c14587-fb4a-4efd-a044-4d5a61ee6735",
   "metadata": {
    "tags": []
   },
   "source": [
    "* The age of the bridge and the material of the bridge have a obvious impact on the condition of the bridge.\n",
    "* The older the bridges, the worse the condition of the bridge.\n",
    "* Concrete bridges are in better condition than other materials."
   ]
  },
  {
   "cell_type": "markdown",
   "id": "4ffb229f-9265-4782-a4a7-09a17971f6de",
   "metadata": {},
   "source": [
    "## 3. Regression Modelling"
   ]
  },
  {
   "cell_type": "markdown",
   "id": "a6cb9db9-e1e2-4c31-ba06-9e685afb0ffe",
   "metadata": {},
   "source": [
    "### 3.1 Process categorical predictors\n",
    "* Specify \"Material\" and \"Design\" two categorical variables.\n",
    "* This is a necessary process for subsequent analysis and calculations."
   ]
  },
  {
   "cell_type": "markdown",
   "id": "b62c32d9-5675-40b3-87f6-2924265abfaa",
   "metadata": {},
   "source": [
    " #### 3.1.1 Convert \"Material\" categorical variables into \"0\", \"1\" variables\n",
    " * According to the values of the category as the column heading, 0 means No, 1 means Yes.\n",
    " * Use these data to create a new table called **\"Material\"**."
   ]
  },
  {
   "cell_type": "code",
   "execution_count": 555,
   "id": "b0aa9c3c-fdaf-4039-a51a-5ab0449216f6",
   "metadata": {
    "tags": []
   },
   "outputs": [
    {
     "data": {
      "text/html": [
       "<div>\n",
       "<style scoped>\n",
       "    .dataframe tbody tr th:only-of-type {\n",
       "        vertical-align: middle;\n",
       "    }\n",
       "\n",
       "    .dataframe tbody tr th {\n",
       "        vertical-align: top;\n",
       "    }\n",
       "\n",
       "    .dataframe thead th {\n",
       "        text-align: right;\n",
       "    }\n",
       "</style>\n",
       "<table border=\"1\" class=\"dataframe\">\n",
       "  <thead>\n",
       "    <tr style=\"text-align: right;\">\n",
       "      <th></th>\n",
       "      <th>Material_Concrete</th>\n",
       "      <th>Material_Other</th>\n",
       "      <th>Material_Steel</th>\n",
       "    </tr>\n",
       "    <tr>\n",
       "      <th>Structure_id</th>\n",
       "      <th></th>\n",
       "      <th></th>\n",
       "      <th></th>\n",
       "    </tr>\n",
       "  </thead>\n",
       "  <tbody>\n",
       "    <tr>\n",
       "      <th>000021521-00101</th>\n",
       "      <td>1</td>\n",
       "      <td>0</td>\n",
       "      <td>0</td>\n",
       "    </tr>\n",
       "    <tr>\n",
       "      <th>000021521-00181</th>\n",
       "      <td>1</td>\n",
       "      <td>0</td>\n",
       "      <td>0</td>\n",
       "    </tr>\n",
       "    <tr>\n",
       "      <th>000021521-TMP20</th>\n",
       "      <td>1</td>\n",
       "      <td>0</td>\n",
       "      <td>0</td>\n",
       "    </tr>\n",
       "    <tr>\n",
       "      <th>000021525-00012</th>\n",
       "      <td>0</td>\n",
       "      <td>1</td>\n",
       "      <td>0</td>\n",
       "    </tr>\n",
       "    <tr>\n",
       "      <th>000021580-00092</th>\n",
       "      <td>1</td>\n",
       "      <td>0</td>\n",
       "      <td>0</td>\n",
       "    </tr>\n",
       "    <tr>\n",
       "      <th>...</th>\n",
       "      <td>...</td>\n",
       "      <td>...</td>\n",
       "      <td>...</td>\n",
       "    </tr>\n",
       "    <tr>\n",
       "      <th>DAPFORHOO000012</th>\n",
       "      <td>1</td>\n",
       "      <td>0</td>\n",
       "      <td>0</td>\n",
       "    </tr>\n",
       "    <tr>\n",
       "      <th>DAPFORHOO000013</th>\n",
       "      <td>1</td>\n",
       "      <td>0</td>\n",
       "      <td>0</td>\n",
       "    </tr>\n",
       "    <tr>\n",
       "      <th>DAPFORHOO000015</th>\n",
       "      <td>1</td>\n",
       "      <td>0</td>\n",
       "      <td>0</td>\n",
       "    </tr>\n",
       "    <tr>\n",
       "      <th>DAPFORHOO00005A</th>\n",
       "      <td>1</td>\n",
       "      <td>0</td>\n",
       "      <td>0</td>\n",
       "    </tr>\n",
       "    <tr>\n",
       "      <th>DAPTRABLI000011</th>\n",
       "      <td>0</td>\n",
       "      <td>0</td>\n",
       "      <td>1</td>\n",
       "    </tr>\n",
       "  </tbody>\n",
       "</table>\n",
       "<p>34209 rows × 3 columns</p>\n",
       "</div>"
      ],
      "text/plain": [
       "                 Material_Concrete  Material_Other  Material_Steel\n",
       "Structure_id                                                      \n",
       "000021521-00101                  1               0               0\n",
       "000021521-00181                  1               0               0\n",
       "000021521-TMP20                  1               0               0\n",
       "000021525-00012                  0               1               0\n",
       "000021580-00092                  1               0               0\n",
       "...                            ...             ...             ...\n",
       "DAPFORHOO000012                  1               0               0\n",
       "DAPFORHOO000013                  1               0               0\n",
       "DAPFORHOO000015                  1               0               0\n",
       "DAPFORHOO00005A                  1               0               0\n",
       "DAPTRABLI000011                  0               0               1\n",
       "\n",
       "[34209 rows x 3 columns]"
      ]
     },
     "execution_count": 555,
     "metadata": {},
     "output_type": "execute_result"
    }
   ],
   "source": [
    "Material = pd.get_dummies(Bridges_data.Material)\n",
    "Material = Material.rename(columns={\"Concrete\":\"Material_Concrete\", \"Other\": \"Material_Other\", \"Steel\":\"Material_Steel\"})\n",
    "Material_categories = [\"Material_Concrete\",\"Material_Other\",\"Material_Steel\"]\n",
    "Material"
   ]
  },
  {
   "cell_type": "markdown",
   "id": "eb877125-4f4c-47c9-8d89-1d7a6efc4ad9",
   "metadata": {},
   "source": [
    " #### 3.1.2 Convert \"Design\" categorical variables into \"0\", \"1\" variables \n",
    " * According to the value of the category as the column heading, 0 means No, 1 means Yes.\n",
    " * Use these data to create a new table called **\"Design\"**."
   ]
  },
  {
   "cell_type": "code",
   "execution_count": 556,
   "id": "0491b45a-d9c0-48e0-9ec4-40616a37c12f",
   "metadata": {
    "tags": []
   },
   "outputs": [
    {
     "data": {
      "text/html": [
       "<div>\n",
       "<style scoped>\n",
       "    .dataframe tbody tr th:only-of-type {\n",
       "        vertical-align: middle;\n",
       "    }\n",
       "\n",
       "    .dataframe tbody tr th {\n",
       "        vertical-align: top;\n",
       "    }\n",
       "\n",
       "    .dataframe thead th {\n",
       "        text-align: right;\n",
       "    }\n",
       "</style>\n",
       "<table border=\"1\" class=\"dataframe\">\n",
       "  <thead>\n",
       "    <tr style=\"text-align: right;\">\n",
       "      <th></th>\n",
       "      <th>Design_Beam</th>\n",
       "      <th>Design_Other</th>\n",
       "      <th>Design_Slab</th>\n",
       "    </tr>\n",
       "    <tr>\n",
       "      <th>Structure_id</th>\n",
       "      <th></th>\n",
       "      <th></th>\n",
       "      <th></th>\n",
       "    </tr>\n",
       "  </thead>\n",
       "  <tbody>\n",
       "    <tr>\n",
       "      <th>000021521-00101</th>\n",
       "      <td>0</td>\n",
       "      <td>0</td>\n",
       "      <td>1</td>\n",
       "    </tr>\n",
       "    <tr>\n",
       "      <th>000021521-00181</th>\n",
       "      <td>0</td>\n",
       "      <td>0</td>\n",
       "      <td>1</td>\n",
       "    </tr>\n",
       "    <tr>\n",
       "      <th>000021521-TMP20</th>\n",
       "      <td>1</td>\n",
       "      <td>0</td>\n",
       "      <td>0</td>\n",
       "    </tr>\n",
       "    <tr>\n",
       "      <th>000021525-00012</th>\n",
       "      <td>1</td>\n",
       "      <td>0</td>\n",
       "      <td>0</td>\n",
       "    </tr>\n",
       "    <tr>\n",
       "      <th>000021580-00092</th>\n",
       "      <td>1</td>\n",
       "      <td>0</td>\n",
       "      <td>0</td>\n",
       "    </tr>\n",
       "    <tr>\n",
       "      <th>...</th>\n",
       "      <td>...</td>\n",
       "      <td>...</td>\n",
       "      <td>...</td>\n",
       "    </tr>\n",
       "    <tr>\n",
       "      <th>DAPFORHOO000012</th>\n",
       "      <td>1</td>\n",
       "      <td>0</td>\n",
       "      <td>0</td>\n",
       "    </tr>\n",
       "    <tr>\n",
       "      <th>DAPFORHOO000013</th>\n",
       "      <td>1</td>\n",
       "      <td>0</td>\n",
       "      <td>0</td>\n",
       "    </tr>\n",
       "    <tr>\n",
       "      <th>DAPFORHOO000015</th>\n",
       "      <td>1</td>\n",
       "      <td>0</td>\n",
       "      <td>0</td>\n",
       "    </tr>\n",
       "    <tr>\n",
       "      <th>DAPFORHOO00005A</th>\n",
       "      <td>1</td>\n",
       "      <td>0</td>\n",
       "      <td>0</td>\n",
       "    </tr>\n",
       "    <tr>\n",
       "      <th>DAPTRABLI000011</th>\n",
       "      <td>1</td>\n",
       "      <td>0</td>\n",
       "      <td>0</td>\n",
       "    </tr>\n",
       "  </tbody>\n",
       "</table>\n",
       "<p>34209 rows × 3 columns</p>\n",
       "</div>"
      ],
      "text/plain": [
       "                 Design_Beam  Design_Other  Design_Slab\n",
       "Structure_id                                           \n",
       "000021521-00101            0             0            1\n",
       "000021521-00181            0             0            1\n",
       "000021521-TMP20            1             0            0\n",
       "000021525-00012            1             0            0\n",
       "000021580-00092            1             0            0\n",
       "...                      ...           ...          ...\n",
       "DAPFORHOO000012            1             0            0\n",
       "DAPFORHOO000013            1             0            0\n",
       "DAPFORHOO000015            1             0            0\n",
       "DAPFORHOO00005A            1             0            0\n",
       "DAPTRABLI000011            1             0            0\n",
       "\n",
       "[34209 rows x 3 columns]"
      ]
     },
     "execution_count": 556,
     "metadata": {},
     "output_type": "execute_result"
    }
   ],
   "source": [
    "Design = pd.get_dummies(Bridges_data.Design)\n",
    "Design = Design.rename(columns={\"Beam\":\"Design_Beam\", \"Other\": \"Design_Other\", \"Slab\":\"Design_Slab\"})\n",
    "Design_categories = [\"Design_Beam\",\"Design_Other\",\"Design_Slab\"]\n",
    "Design"
   ]
  },
  {
   "cell_type": "markdown",
   "id": "1e3f3408-ef8b-4816-99fb-cf8ecc2f8418",
   "metadata": {},
   "source": [
    "### 3.2 Modelling and calculation\n",
    "* Use column **\"Current_condition\"** in table **\"Bridge_data\"** as target variable.\n",
    "* Use column **\"AverageDaily\", \"Trucks_percent\", \"Age\"** in table **\"Bridges_data\"**; column **\"Material_Concrete\", \"Material_Steel\"** in table **\"Material\"**; use column **\"Design_Beam\", \"Design_Slab\"** in table **\"Design\"** as predictor variable.  \n",
    "For reference encoding we use \"Material_other\", \"Design_other\" as a reference of Material and Design separately, so these two columns are not put into linear model. "
   ]
  },
  {
   "cell_type": "code",
   "execution_count": 557,
   "id": "0f2a8513-946b-4ce7-abde-11a8f0698b5c",
   "metadata": {
    "tags": []
   },
   "outputs": [],
   "source": [
    "X = np.column_stack((Bridges_data.AverageDaily, Bridges_data.Trucks_percent, Bridges_data.Age, \n",
    "                     Material.Material_Concrete,  Material.Material_Steel, Design.Design_Beam, Design.Design_Slab))\n",
    "y = Bridges_data.Current_condition"
   ]
  },
  {
   "cell_type": "markdown",
   "id": "519d536d-382b-4e24-8b3c-ecee072e36d9",
   "metadata": {},
   "source": [
    "* The differing ranges of the predictors made the regression coefficient harder to compare. We can instead **standardise the values**. This makes the comparison easier. "
   ]
  },
  {
   "cell_type": "code",
   "execution_count": 558,
   "id": "fdb7160a-3c67-4d7a-b77c-a40eedb7a1c4",
   "metadata": {},
   "outputs": [],
   "source": [
    "Z = StandardScaler().fit_transform(X)"
   ]
  },
  {
   "cell_type": "markdown",
   "id": "c06150d8-3007-45e3-ad91-d25be88eaa72",
   "metadata": {},
   "source": [
    "* Then use linear regression to calculate R2 coefficient, Intercept, Regression coefficients and Root mean squared error (Round the value of results to four decimal places)."
   ]
  },
  {
   "cell_type": "code",
   "execution_count": 559,
   "id": "f4be8be8-34fa-4101-a8e6-fd47bcf876a7",
   "metadata": {},
   "outputs": [
    {
     "name": "stdout",
     "output_type": "stream",
     "text": [
      "The R2 coefficient of determination is 0.4512\n",
      "The intercept is 20.3065\n",
      "The regression coefficients are:\n"
     ]
    },
    {
     "data": {
      "text/html": [
       "<div>\n",
       "<style scoped>\n",
       "    .dataframe tbody tr th:only-of-type {\n",
       "        vertical-align: middle;\n",
       "    }\n",
       "\n",
       "    .dataframe tbody tr th {\n",
       "        vertical-align: top;\n",
       "    }\n",
       "\n",
       "    .dataframe thead th {\n",
       "        text-align: right;\n",
       "    }\n",
       "</style>\n",
       "<table border=\"1\" class=\"dataframe\">\n",
       "  <thead>\n",
       "    <tr style=\"text-align: right;\">\n",
       "      <th></th>\n",
       "      <th>AverageDaily</th>\n",
       "      <th>Trucks_percent</th>\n",
       "      <th>Age</th>\n",
       "      <th>Material_Concrete</th>\n",
       "      <th>Material_Steel</th>\n",
       "      <th>Design_Beam</th>\n",
       "      <th>Design_Slab</th>\n",
       "    </tr>\n",
       "  </thead>\n",
       "  <tbody>\n",
       "    <tr>\n",
       "      <th>Coefficient</th>\n",
       "      <td>-0.0168</td>\n",
       "      <td>0.0556</td>\n",
       "      <td>-1.1535</td>\n",
       "      <td>1.1388</td>\n",
       "      <td>0.564</td>\n",
       "      <td>-0.0463</td>\n",
       "      <td>-0.064</td>\n",
       "    </tr>\n",
       "  </tbody>\n",
       "</table>\n",
       "</div>"
      ],
      "text/plain": [
       "             AverageDaily  Trucks_percent     Age  Material_Concrete  \\\n",
       "Coefficient       -0.0168          0.0556 -1.1535             1.1388   \n",
       "\n",
       "             Material_Steel  Design_Beam  Design_Slab  \n",
       "Coefficient           0.564      -0.0463       -0.064  "
      ]
     },
     "execution_count": 559,
     "metadata": {},
     "output_type": "execute_result"
    }
   ],
   "source": [
    "reg = LinearRegression().fit(Z, y)\n",
    "print(\"The R2 coefficient of determination is %4.4f\" % reg.score(Z, y))\n",
    "print(\"The intercept is %4.4f\" % reg.intercept_)\n",
    "print(\"The regression coefficients are:\")\n",
    "coef = pd.DataFrame(reg.coef_.round(4), index=[\"AverageDaily\", \"Trucks_percent\", \"Age\" , \"Material_Concrete\", \"Material_Steel\", \"Design_Beam\", \n",
    "                                      \"Design_Slab\"], columns =[\"Coefficient\"])\n",
    "coef.transpose()"
   ]
  },
  {
   "cell_type": "code",
   "execution_count": 560,
   "id": "ae903634-8f6d-4869-857d-b436cd56c749",
   "metadata": {
    "tags": []
   },
   "outputs": [
    {
     "name": "stdout",
     "output_type": "stream",
     "text": [
      "Root mean squared error of this model is 1.0937\n"
     ]
    }
   ],
   "source": [
    "y_pred = LinearRegression().fit(Z, y).predict(Z)\n",
    "MSE = mean_squared_error(y, y_pred)\n",
    "RMSE = MSE**1/2\n",
    "print(\"Root mean squared error of this model is %.4f\" %RMSE)"
   ]
  },
  {
   "cell_type": "markdown",
   "id": "c208e3bc-5477-4527-8f97-d8cb4bc64004",
   "metadata": {},
   "source": [
    "### 3.2 Explanation of the result of Model and calculation\n",
    "* **R2:** The coefficient of determination is a number between 0 and 1 that measures how well a statistical model predicts an outcome.  \n",
    "\n",
    "|  Coefficient of determination (R2)     |      Interpretation             |\n",
    "|:--------------|:-----------------------------|\n",
    "|0  | The model does not predict the outcome.                  | \n",
    "|Between 0 and 1       | The model partially predicts the outcome. |\n",
    "|1      | The model perfectly predicts the outcome.                | \n",
    "\n",
    "In this model, we got a **0.4512 R2** means this model with these predictor variables can partially predicts the bridges' conditions, 0.4512 means that five variables has 45.1% explanatory power for bridge conditions.  \n",
    "\n",
    "* **Intercept:** the intercept in a multiple regression model is the mean for the response when all of the explanatory variables take on the value.  \n",
    "In this model, **the intercept is 20.3065** shows the average current_condition of bridge is 20.3065.  \n",
    "\n",
    "* **Regression coefficients:** A regression coefficient in multiple regression is the slope of the linear relationship between the response variable and the part of a predictor variable. The absolute value of coefficient of predict variable bigger means it has more influence on the response variable. A positive value represents a positive correlation; a negative number represents a negative correlation.\n",
    "\n",
    "    Rank by absolute value(so as their influence on the bridges' conditions) :    \n",
    "    Age > Material_Concrete > Material_Steel > Design_Slab > Trucks_percent > Design_Beam > AverageDaily  \n",
    "    \n",
    "    We only talk about top 3, because the rest predictor variables have very low values coefficients and nearly have no influence on bridges' condition.\n",
    "      \n",
    "     **Age (-1.1535)** shows Age is the most important factor in five predictors, has a negative impact on bridges' condition; The older the bridges, the worse the condition of the bridge.\n",
    "      \n",
    "     **Material_Concrete (1.1388)** shows Material_Concrete has a positive impact on bridges' condition; The bridges made up of concrete have better condition than others.\n",
    "      \n",
    "     **Material_Steel (0.5640)** shows Material_Steel has a weak positive impact on bridges' condition; The condition of steel bridges is second only to the situation of concrete bridges.\n",
    "    \n",
    "\n",
    "* **Root mean squared error:** Root mean squared error (RMSE) measures the amount of error in statistical models. It assesses the average root squared difference between the actual and predicted values. When a model has no error, the RMSE equals zero. As model error increases, its value increases. \n",
    "  \n",
    "  In this model, **Root mean squared error is 1.0937** shows this model predicts the bridge condition well but still has error between the actual and predicted bridge condition equals to 1.0937.\n"
   ]
  },
  {
   "cell_type": "markdown",
   "id": "f8e2faf9-c17d-4212-9c30-59ae498dfebc",
   "metadata": {},
   "source": [
    "### 3.3 The distribution of residuals (errors) in this model"
   ]
  },
  {
   "cell_type": "markdown",
   "id": "ce840d50-3bab-49fd-8e11-2faf0f2524de",
   "metadata": {},
   "source": [
    "We can use the `predict` method to return the predicted values of the target variable. Then we can calculate the errors and show their distribution."
   ]
  },
  {
   "cell_type": "code",
   "execution_count": 561,
   "id": "f1a7decd-4b80-4ab3-a3a5-745c2e1f1b36",
   "metadata": {
    "tags": []
   },
   "outputs": [
    {
     "data": {
      "text/plain": [
       "Text(0, 0.5, 'Percentage')"
      ]
     },
     "execution_count": 561,
     "metadata": {},
     "output_type": "execute_result"
    },
    {
     "data": {
      "image/png": "[encoded data removed]",
      "text/plain": [
       "<Figure size 640x480 with 1 Axes>"
      ]
     },
     "metadata": {},
     "output_type": "display_data"
    }
   ],
   "source": [
    "y_pred = reg.predict(Z)\n",
    "\n",
    "fig, a1 = plt.subplots(1, 1)\n",
    "residuals = y_pred - y\n",
    "a1.hist(residuals, bins=40, density=True)\n",
    "a1.set_title('The histogram of Error in prediction')\n",
    "a1.set_xlabel('Value')\n",
    "a1.set_ylabel('Percentage')"
   ]
  },
  {
   "cell_type": "markdown",
   "id": "332f1374-a04c-49ba-87f2-31b9bb04fdbd",
   "metadata": {},
   "source": [
    "We can also plot a scatter of the actual values against the predicted values. If the regression fitted better, the points would be nearer to the red line. "
   ]
  },
  {
   "cell_type": "code",
   "execution_count": 562,
   "id": "e0ec2bb5-8425-445e-a839-9a1e1f9b5ae4",
   "metadata": {
    "tags": []
   },
   "outputs": [
    {
     "data": {
      "text/plain": [
       "Text(0.5, 1.0, 'A scatter of the actual values against the predicted values')"
      ]
     },
     "execution_count": 562,
     "metadata": {},
     "output_type": "execute_result"
    },
    {
     "data": {
      "image/png": "[encoded data removed]",
      "text/plain": [
       "<Figure size 800x600 with 1 Axes>"
      ]
     },
     "metadata": {},
     "output_type": "display_data"
    }
   ],
   "source": [
    "# Plot outputs\n",
    "fig, a = plt.subplots(1,1,figsize=(8,6))\n",
    "a.scatter(y_pred, y,  color='blue', marker=\".\",alpha=0.3)\n",
    "a.plot(y_pred, y_pred, color='red', linewidth=3)\n",
    "a.set_xlabel('Predicted current_condition of bridges')\n",
    "a.set_ylabel('Actual current_condition of bridges')\n",
    "a.set_title(\"A scatter of the actual values against the predicted values\")"
   ]
  },
  {
   "cell_type": "markdown",
   "id": "8034b5fe-2113-433d-a448-e8d7c890495d",
   "metadata": {},
   "source": [
    "Though there still some error exit, this is unavoidable and acceptable."
   ]
  },
  {
   "cell_type": "markdown",
   "id": "c68740d2-8586-4b92-894a-c5aa610b057d",
   "metadata": {
    "tags": []
   },
   "source": [
    "## 4. Final Conclusion"
   ]
  },
  {
   "cell_type": "markdown",
   "id": "f0edcfde-e583-4cb1-872d-ad2a1feb1339",
   "metadata": {
    "tags": []
   },
   "source": [
    "* **The proposed variables can predict the bridge condition, but not enough and reasonable, because R2 of this model is only 0.4512, larger values of R2 are required to guarantee the validity of the predictive model.**\n",
    "* **The Age of bridges(\"Age\") has the greatest negative impact on bridge condition, the older the bridges, the worse the condition of the bridge;**\n",
    "* **Material of concrete has a positive impact on bridges' condition, and Material of steel has a weaker positive impact on bridges' condition than concrete;**\n",
    "* **AverageDaily, Trucks_percent and Design compared to other variables have little to no effect on bridge condition.**"
   ]
  },
  {
   "cell_type": "markdown",
   "id": "9f1a2171-9168-48fc-b6a2-511eb4fd1d7f",
   "metadata": {},
   "source": [
    "### 4.1 Brief suggestions for further analysis"
   ]
  },
  {
   "cell_type": "markdown",
   "id": "6ac24537-e664-4af8-9392-62a1241d4fdf",
   "metadata": {},
   "source": [
    "* Drop \"AverageDaily\", \"Trucks_percent\" and \"Design\" variables because they have little impact, and add more other variables(for instance, \"Urban\"|\"length\" etc.) into analysis;\n",
    "* Get and use more bridge data for analysis, the more data there is, the more accurate the model predictions will be."
   ]
  }
 ],
 "metadata": {
  "kernelspec": {
   "display_name": "Python 3 (ipykernel)",
   "language": "python",
   "name": "python3"
  },
  "language_info": {
   "codemirror_mode": {
    "name": "ipython",
    "version": 3
   },
   "file_extension": ".py",
   "mimetype": "text/x-python",
   "name": "python",
   "nbconvert_exporter": "python",
   "pygments_lexer": "ipython3",
   "version": "3.10.6"
  },
  "toc-autonumbering": false,
  "toc-showmarkdowntxt": false
 },
 "nbformat": 4,
 "nbformat_minor": 5
}
